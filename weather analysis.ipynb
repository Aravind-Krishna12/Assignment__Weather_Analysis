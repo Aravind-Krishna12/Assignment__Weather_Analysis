{
 "cells": [
  {
   "cell_type": "code",
   "execution_count": 2,
   "metadata": {
    "application/vnd.databricks.v1+cell": {
     "cellMetadata": {
      "byteLimit": 2048000,
      "rowLimit": 10000
     },
     "inputWidgets": {},
     "nuid": "76778669-bb11-4a7c-a529-80bb2d9dc275",
     "showTitle": false,
     "tableResultSettingsMap": {},
     "title": ""
    }
   },
   "outputs": [],
   "source": [
    "\n",
    "from pyspark.sql import SparkSession"
   ]
  },
  {
   "cell_type": "code",
   "execution_count": 3,
   "metadata": {
    "application/vnd.databricks.v1+cell": {
     "cellMetadata": {
      "byteLimit": 2048000,
      "rowLimit": 10000
     },
     "inputWidgets": {},
     "nuid": "54c21316-d329-41fb-9d98-178c507b7287",
     "showTitle": false,
     "tableResultSettingsMap": {},
     "title": ""
    }
   },
   "outputs": [],
   "source": [
    "spark = SparkSession.builder.appName('WeatherDataProcessing').getOrCreate()"
   ]
  },
  {
   "cell_type": "code",
   "execution_count": 4,
   "metadata": {
    "application/vnd.databricks.v1+cell": {
     "cellMetadata": {
      "byteLimit": 2048000,
      "rowLimit": 10000
     },
     "inputWidgets": {},
     "nuid": "9acb8ce9-d93a-498a-800b-1ff7d21c4d34",
     "showTitle": false,
     "tableResultSettingsMap": {},
     "title": ""
    }
   },
   "outputs": [],
   "source": [
    "df = spark.read.csv(r'C:\\Users\\aravi\\Desktop\\Assignment\\GlobalWeatherRepository.csv', header=True, inferSchema=True)"
   ]
  },
  {
   "cell_type": "code",
   "execution_count": 5,
   "metadata": {
    "application/vnd.databricks.v1+cell": {
     "cellMetadata": {
      "byteLimit": 2048000,
      "rowLimit": 10000
     },
     "inputWidgets": {},
     "nuid": "e6784061-8df2-496b-a115-a4a30b8caec9",
     "showTitle": false,
     "tableResultSettingsMap": {},
     "title": ""
    }
   },
   "outputs": [
    {
     "name": "stdout",
     "output_type": "stream",
     "text": [
      "root\n",
      " |-- country: string (nullable = true)\n",
      " |-- location_name: string (nullable = true)\n",
      " |-- latitude: double (nullable = true)\n",
      " |-- longitude: double (nullable = true)\n",
      " |-- timezone: string (nullable = true)\n",
      " |-- last_updated_epoch: integer (nullable = true)\n",
      " |-- last_updated: timestamp (nullable = true)\n",
      " |-- temperature_celsius: double (nullable = true)\n",
      " |-- temperature_fahrenheit: double (nullable = true)\n",
      " |-- condition_text: string (nullable = true)\n",
      " |-- wind_mph: double (nullable = true)\n",
      " |-- wind_kph: double (nullable = true)\n",
      " |-- wind_degree: integer (nullable = true)\n",
      " |-- wind_direction: string (nullable = true)\n",
      " |-- pressure_mb: double (nullable = true)\n",
      " |-- pressure_in: double (nullable = true)\n",
      " |-- precip_mm: double (nullable = true)\n",
      " |-- precip_in: double (nullable = true)\n",
      " |-- humidity: integer (nullable = true)\n",
      " |-- cloud: integer (nullable = true)\n",
      " |-- feels_like_celsius: double (nullable = true)\n",
      " |-- feels_like_fahrenheit: double (nullable = true)\n",
      " |-- visibility_km: double (nullable = true)\n",
      " |-- visibility_miles: double (nullable = true)\n",
      " |-- uv_index: double (nullable = true)\n",
      " |-- gust_mph: double (nullable = true)\n",
      " |-- gust_kph: double (nullable = true)\n",
      " |-- air_quality_Carbon_Monoxide: double (nullable = true)\n",
      " |-- air_quality_Ozone: double (nullable = true)\n",
      " |-- air_quality_Nitrogen_dioxide: double (nullable = true)\n",
      " |-- air_quality_Sulphur_dioxide: double (nullable = true)\n",
      " |-- air_quality_PM2.5: double (nullable = true)\n",
      " |-- air_quality_PM10: double (nullable = true)\n",
      " |-- air_quality_us-epa-index: integer (nullable = true)\n",
      " |-- air_quality_gb-defra-index: integer (nullable = true)\n",
      " |-- sunrise: string (nullable = true)\n",
      " |-- sunset: string (nullable = true)\n",
      " |-- moonrise: string (nullable = true)\n",
      " |-- moonset: string (nullable = true)\n",
      " |-- moon_phase: string (nullable = true)\n",
      " |-- moon_illumination: integer (nullable = true)\n",
      "\n"
     ]
    }
   ],
   "source": [
    "df.printSchema()"
   ]
  },
  {
   "cell_type": "code",
   "execution_count": 6,
   "metadata": {
    "application/vnd.databricks.v1+cell": {
     "cellMetadata": {
      "byteLimit": 2048000,
      "rowLimit": 10000
     },
     "inputWidgets": {},
     "nuid": "5963975e-5ec1-4df0-832c-c9e930d1524b",
     "showTitle": false,
     "tableResultSettingsMap": {},
     "title": ""
    }
   },
   "outputs": [],
   "source": [
    "from pyspark.sql.functions import to_date, col"
   ]
  },
  {
   "cell_type": "code",
   "execution_count": 7,
   "metadata": {
    "application/vnd.databricks.v1+cell": {
     "cellMetadata": {
      "byteLimit": 2048000,
      "rowLimit": 10000
     },
     "inputWidgets": {},
     "nuid": "4a046996-f88a-47bc-9979-7db250ab4179",
     "showTitle": false,
     "tableResultSettingsMap": {},
     "title": ""
    }
   },
   "outputs": [],
   "source": [
    "df = df.withColumn('date_only', to_date(col('last_updated')))"
   ]
  },
  {
   "cell_type": "code",
   "execution_count": 8,
   "metadata": {
    "application/vnd.databricks.v1+cell": {
     "cellMetadata": {
      "byteLimit": 2048000,
      "rowLimit": 10000
     },
     "inputWidgets": {},
     "nuid": "4f62d5cf-36cd-4f40-a91c-caa5fdaa2b1b",
     "showTitle": false,
     "tableResultSettingsMap": {},
     "title": ""
    }
   },
   "outputs": [
    {
     "name": "stdout",
     "output_type": "stream",
     "text": [
      "+-------------------+----------------+--------+---------+--------------------+------------------+-------------------+-------------------+----------------------+--------------------+--------+--------+-----------+--------------+-----------+-----------+---------+---------+--------+-----+------------------+---------------------+-------------+----------------+--------+--------+--------+---------------------------+-----------------+----------------------------+---------------------------+-----------------+----------------+------------------------+--------------------------+--------+--------+--------+----------+--------------+-----------------+----------+\n",
      "|            country|   location_name|latitude|longitude|            timezone|last_updated_epoch|       last_updated|temperature_celsius|temperature_fahrenheit|      condition_text|wind_mph|wind_kph|wind_degree|wind_direction|pressure_mb|pressure_in|precip_mm|precip_in|humidity|cloud|feels_like_celsius|feels_like_fahrenheit|visibility_km|visibility_miles|uv_index|gust_mph|gust_kph|air_quality_Carbon_Monoxide|air_quality_Ozone|air_quality_Nitrogen_dioxide|air_quality_Sulphur_dioxide|air_quality_PM2.5|air_quality_PM10|air_quality_us-epa-index|air_quality_gb-defra-index| sunrise|  sunset|moonrise|   moonset|    moon_phase|moon_illumination| date_only|\n",
      "+-------------------+----------------+--------+---------+--------------------+------------------+-------------------+-------------------+----------------------+--------------------+--------+--------+-----------+--------------+-----------+-----------+---------+---------+--------+-----+------------------+---------------------+-------------+----------------+--------+--------+--------+---------------------------+-----------------+----------------------------+---------------------------+-----------------+----------------+------------------------+--------------------------+--------+--------+--------+----------+--------------+-----------------+----------+\n",
      "|        Afghanistan|           Kabul|   34.52|    69.18|          Asia/Kabul|        1715849100|2024-05-16 13:15:00|               26.6|                  79.8|       Partly Cloudy|     8.3|    13.3|        338|           NNW|     1012.0|      29.89|      0.0|      0.0|      24|   30|              25.3|                 77.5|         10.0|             6.0|     7.0|     9.5|    15.3|                      277.0|            103.0|                         1.1|                        0.2|              8.4|            26.6|                       1|                         1|04:50 AM|06:50 PM|12:12 PM|  01:11 AM|Waxing Gibbous|               55|2024-05-16|\n",
      "|            Albania|          Tirana|   41.33|    19.82|       Europe/Tirane|        1715849100|2024-05-16 10:45:00|               19.0|                  66.2|       Partly cloudy|     6.9|    11.2|        320|            NW|     1012.0|      29.88|      0.1|      0.0|      94|   75|              19.0|                 66.2|         10.0|             6.0|     5.0|    11.4|    18.4|                      193.6|             97.3|                         0.9|                        0.1|              1.1|             2.0|                       1|                         1|05:21 AM|07:54 PM|12:58 PM|  02:14 AM|Waxing Gibbous|               55|2024-05-16|\n",
      "|            Algeria|         Algiers|   36.76|     3.05|      Africa/Algiers|        1715849100|2024-05-16 09:45:00|               23.0|                  73.4|               Sunny|     9.4|    15.1|        280|             W|     1011.0|      29.85|      0.0|      0.0|      29|    0|              24.6|                 76.4|         10.0|             6.0|     5.0|    13.9|    22.3|                      540.7|             12.2|                        65.1|                       13.4|             10.4|            18.4|                       1|                         1|05:40 AM|07:50 PM|01:15 PM|  02:14 AM|Waxing Gibbous|               55|2024-05-16|\n",
      "|            Andorra|Andorra La Vella|    42.5|     1.52|      Europe/Andorra|        1715849100|2024-05-16 10:45:00|                6.3|                  43.3|       Light drizzle|     7.4|    11.9|        215|            SW|     1007.0|      29.75|      0.3|     0.01|      61|  100|               3.8|                 38.9|          2.0|             1.0|     2.0|     8.5|    13.7|                      170.2|             64.4|                         1.6|                        0.2|              0.7|             0.9|                       1|                         1|06:31 AM|09:11 PM|02:12 PM|  03:31 AM|Waxing Gibbous|               55|2024-05-16|\n",
      "|             Angola|          Luanda|   -8.84|    13.23|       Africa/Luanda|        1715849100|2024-05-16 09:45:00|               26.0|                  78.8|       Partly cloudy|     8.1|    13.0|        150|           SSE|     1011.0|      29.85|      0.0|      0.0|      89|   50|              28.7|                 83.6|         10.0|             6.0|     8.0|    12.5|    20.2|                     2964.0|             19.0|                        72.7|                       31.5|            183.4|           262.3|                       5|                        10|06:12 AM|05:55 PM|01:17 PM|  12:38 AM|Waxing Gibbous|               55|2024-05-16|\n",
      "|Antigua and Barbuda|    Saint John's|   17.12|   -61.85|     America/Antigua|        1715849100|2024-05-16 04:45:00|               26.0|                  78.8|       Partly cloudy|     5.6|     9.0|         90|             E|     1013.0|      29.91|     0.02|      0.0|      84|   25|              28.2|                 82.8|         10.0|             6.0|     1.0|    15.7|    25.3|                      220.3|             29.0|                         0.2|                        0.2|              1.2|             4.5|                       1|                         1|05:36 AM|06:32 PM|01:05 PM|  01:14 AM|Waxing Gibbous|               55|2024-05-16|\n",
      "|          Argentina|    Buenos Aires|  -34.59|   -58.67|America/Argentina...|        1715849100|2024-05-16 05:45:00|                8.0|                  46.4|               Clear|     2.2|     3.6|         10|             N|     1014.0|      29.94|      0.0|      0.0|      93|    0|               7.1|                 44.9|         10.0|             6.0|     1.0|     6.5|    10.5|                      270.4|              7.7|                         8.3|                        1.3|              4.0|             5.3|                       1|                         1|07:43 AM|05:59 PM|02:36 PM|  01:04 AM|Waxing Gibbous|               55|2024-05-16|\n",
      "|            Armenia|         Yerevan|   40.18|    44.51|        Asia/Yerevan|        1715849100|2024-05-16 12:45:00|               19.0|                  66.2|       Partly cloudy|     4.3|     6.8|        140|            SE|     1017.0|      30.03|     0.13|     0.01|      40|   25|              19.0|                 66.2|         10.0|             6.0|     4.0|     6.2|     9.9|                      186.9|            103.0|                         1.0|                        0.3|              0.8|             0.9|                       1|                         1|05:45 AM|08:12 PM|01:17 PM|  02:31 AM|Waxing Gibbous|               55|2024-05-16|\n",
      "|          Australia|        Canberra|  -35.28|   149.22|    Australia/Sydney|        1715849100|2024-05-16 18:45:00|                9.0|                  48.2|               Clear|     2.5|     4.0|        100|             E|     1027.0|      30.33|      0.0|      0.0|      87|    0|               9.1|                 48.5|         10.0|             6.0|     1.0|     3.3|     5.3|                      277.0|             26.8|                        15.1|                        1.0|              3.7|             5.4|                       1|                         1|06:52 AM|05:07 PM|01:31 PM|No moonset|Waxing Gibbous|               55|2024-05-16|\n",
      "|            Austria|          Vienna|    48.2|    16.37|       Europe/Vienna|        1715849100|2024-05-16 10:45:00|               16.0|                  60.8|       Partly cloudy|    12.5|    20.2|        110|           ESE|     1013.0|      29.91|      0.0|      0.0|      63|   75|              16.0|                 60.8|         10.0|             6.0|     5.0|    19.8|    31.9|                      220.3|             68.7|                         5.1|                        4.1|              3.7|             4.4|                       1|                         1|05:14 AM|08:29 PM|01:00 PM|  02:42 AM|Waxing Gibbous|               55|2024-05-16|\n",
      "|         Azerbaijan|            Baku|    40.4|    49.88|           Asia/Baku|        1715849100|2024-05-16 12:45:00|               17.0|                  62.6|       Partly cloudy|     4.3|     6.8|         20|           NNE|     1020.0|      30.12|      0.0|      0.0|      68|   50|              17.0|                 62.6|         10.0|             6.0|     5.0|     4.6|     7.4|                      227.0|             81.5|                         7.1|                        1.8|              1.9|             2.2|                       1|                         1|05:23 AM|07:51 PM|12:54 PM|  02:10 AM|Waxing Gibbous|               55|2024-05-16|\n",
      "|            Bahamas|          Nassau|   25.08|   -77.35|      America/Nassau|        1715849100|2024-05-16 04:45:00|               27.0|                  80.6|       Partly cloudy|    16.1|    25.9|        180|             S|     1012.0|      29.87|      0.0|      0.0|      89|   50|              31.1|                 88.0|         10.0|             6.0|     1.0|    24.2|    39.0|                      330.5|             59.4|                         1.2|                        1.5|             12.2|            24.6|                       1|                         2|06:24 AM|07:48 PM|02:01 PM|  02:26 AM|Waxing Gibbous|               55|2024-05-16|\n",
      "|            Bahrain|          Manama|   26.24|    50.58|        Asia/Bahrain|        1715849100|2024-05-16 11:45:00|               36.0|                  96.8|               Sunny|    13.6|    22.0|        140|            SE|     1007.0|      29.74|      0.0|      0.0|      33|    0|              45.4|                113.6|         10.0|             6.0|     8.0|    18.1|    29.2|                      397.2|            100.1|                        18.5|                        9.7|             39.0|           114.3|                       2|                         4|04:50 AM|06:18 PM|12:10 PM|  12:45 AM|Waxing Gibbous|               55|2024-05-16|\n",
      "|         Bangladesh|           Dhaka|   23.72|    90.41|          Asia/Dhaka|        1715849100|2024-05-16 14:45:00|               38.4|                 101.2|       Partly Cloudy|     4.3|     6.8|        222|            SW|     1006.0|      29.71|      0.0|      0.0|      31|   30|              41.3|                106.4|         10.0|             6.0|     9.0|     4.9|     7.9|                      520.7|            188.8|                         8.7|                        4.7|             49.7|            57.0|                       3|                         6|05:16 AM|06:34 PM|12:28 PM|  12:58 AM|Waxing Gibbous|               55|2024-05-16|\n",
      "|           Barbados|      Bridgetown|    13.1|   -59.62|    America/Barbados|        1715849100|2024-05-16 04:45:00|               28.0|                  82.4|       Partly cloudy|    16.1|    25.9|         90|             E|     1012.0|      29.88|      0.0|      0.0|      74|   50|              31.9|                 89.4|         10.0|             6.0|     1.0|    19.7|    31.8|                      257.0|             21.1|                         1.0|                        0.9|              1.9|             8.2|                       1|                         1|05:33 AM|06:17 PM|12:59 PM|  01:00 AM|Waxing Gibbous|               55|2024-05-16|\n",
      "|            Belarus|           Minsk|    53.9|    27.57|        Europe/Minsk|        1715849100|2024-05-16 11:45:00|               17.0|                  62.6|               Sunny|    11.9|    19.1|        150|           SSE|     1027.0|      30.33|      0.0|      0.0|      29|    0|              17.0|                 62.6|         10.0|             6.0|     4.0|    16.3|    26.3|                      201.9|             88.7|                         1.4|                        2.1|              1.6|             1.7|                       1|                         1|05:05 AM|09:08 PM|12:59 PM|  03:13 AM|Waxing Gibbous|               55|2024-05-16|\n",
      "|            Belgium|        Brussels|   50.83|     4.33|     Europe/Brussels|        1715849100|2024-05-16 10:45:00|               15.0|                  59.0|       Partly cloudy|     3.8|     6.1|        240|           WSW|     1003.0|      29.62|     0.25|     0.01|      94|   50|              14.6|                 58.2|         10.0|             6.0|     3.0|     8.8|    14.2|                      277.0|             11.2|                        22.3|                        3.4|             14.7|            15.8|                       1|                         2|05:52 AM|09:28 PM|01:45 PM|  03:38 AM|Waxing Gibbous|               55|2024-05-16|\n",
      "|             Belize|        Belmopan|   17.25|   -88.77|      America/Belize|        1715849100|2024-05-16 02:45:00|               26.0|                  78.9|            Overcast|     4.3|     6.8|         99|             E|     1007.0|      29.75|      0.0|      0.0|      89|   94|              29.6|                 85.3|         10.0|             6.0|     1.0|     6.5|    10.4|                      307.1|             34.0|                         0.3|                        0.2|              7.7|            32.1|                       1|                         1|05:23 AM|06:20 PM|12:56 PM|  01:04 AM|Waxing Gibbous|               55|2024-05-16|\n",
      "|              Benin|      Porto-Novo|    6.48|     2.62|   Africa/Porto-Novo|        1715849100|2024-05-16 09:45:00|               28.0|                  82.4|Moderate or heavy...|    15.0|    24.1|        210|           SSW|     1012.0|      29.88|     0.02|      0.0|      79|   75|              31.2|                 88.1|         10.0|             6.0|     7.0|    19.5|    31.3|                      587.5|             14.5|                         4.5|                        2.2|              8.2|            15.7|                       1|                         1|06:33 AM|06:59 PM|01:48 PM|  01:38 AM|Waxing Gibbous|               55|2024-05-16|\n",
      "|             Bhutan|         Thimphu|   27.48|     89.6|        Asia/Thimphu|        1715849100|2024-05-16 14:45:00|               18.2|                  64.8|Patchy light rain...|     7.2|    11.5|        142|            SE|     1012.0|      29.87|     0.16|     0.01|      50|   77|              18.2|                 64.8|         10.0|             6.0|     4.0|     8.6|    13.9|                      280.4|             69.4|                         0.2|                        0.7|              9.3|            11.5|                       1|                         1|05:12 AM|06:44 PM|12:27 PM|  01:07 AM|Waxing Gibbous|               55|2024-05-16|\n",
      "+-------------------+----------------+--------+---------+--------------------+------------------+-------------------+-------------------+----------------------+--------------------+--------+--------+-----------+--------------+-----------+-----------+---------+---------+--------+-----+------------------+---------------------+-------------+----------------+--------+--------+--------+---------------------------+-----------------+----------------------------+---------------------------+-----------------+----------------+------------------------+--------------------------+--------+--------+--------+----------+--------------+-----------------+----------+\n",
      "only showing top 20 rows\n",
      "\n"
     ]
    }
   ],
   "source": [
    "df.show()"
   ]
  },
  {
   "cell_type": "code",
   "execution_count": 9,
   "metadata": {
    "application/vnd.databricks.v1+cell": {
     "cellMetadata": {
      "byteLimit": 2048000,
      "rowLimit": 10000
     },
     "inputWidgets": {},
     "nuid": "408dde93-22b4-4c17-bb05-e14b0f82944a",
     "showTitle": false,
     "tableResultSettingsMap": {},
     "title": ""
    }
   },
   "outputs": [
    {
     "name": "stdout",
     "output_type": "stream",
     "text": [
      "root\n",
      " |-- country: string (nullable = true)\n",
      " |-- location_name: string (nullable = true)\n",
      " |-- latitude: double (nullable = true)\n",
      " |-- longitude: double (nullable = true)\n",
      " |-- timezone: string (nullable = true)\n",
      " |-- last_updated_epoch: integer (nullable = true)\n",
      " |-- last_updated: timestamp (nullable = true)\n",
      " |-- temperature_celsius: double (nullable = true)\n",
      " |-- temperature_fahrenheit: double (nullable = true)\n",
      " |-- condition_text: string (nullable = true)\n",
      " |-- wind_mph: double (nullable = true)\n",
      " |-- wind_kph: double (nullable = true)\n",
      " |-- wind_degree: integer (nullable = true)\n",
      " |-- wind_direction: string (nullable = true)\n",
      " |-- pressure_mb: double (nullable = true)\n",
      " |-- pressure_in: double (nullable = true)\n",
      " |-- precip_mm: double (nullable = true)\n",
      " |-- precip_in: double (nullable = true)\n",
      " |-- humidity: integer (nullable = true)\n",
      " |-- cloud: integer (nullable = true)\n",
      " |-- feels_like_celsius: double (nullable = true)\n",
      " |-- feels_like_fahrenheit: double (nullable = true)\n",
      " |-- visibility_km: double (nullable = true)\n",
      " |-- visibility_miles: double (nullable = true)\n",
      " |-- uv_index: double (nullable = true)\n",
      " |-- gust_mph: double (nullable = true)\n",
      " |-- gust_kph: double (nullable = true)\n",
      " |-- air_quality_Carbon_Monoxide: double (nullable = true)\n",
      " |-- air_quality_Ozone: double (nullable = true)\n",
      " |-- air_quality_Nitrogen_dioxide: double (nullable = true)\n",
      " |-- air_quality_Sulphur_dioxide: double (nullable = true)\n",
      " |-- air_quality_PM2.5: double (nullable = true)\n",
      " |-- air_quality_PM10: double (nullable = true)\n",
      " |-- air_quality_us-epa-index: integer (nullable = true)\n",
      " |-- air_quality_gb-defra-index: integer (nullable = true)\n",
      " |-- sunrise: string (nullable = true)\n",
      " |-- sunset: string (nullable = true)\n",
      " |-- moonrise: string (nullable = true)\n",
      " |-- moonset: string (nullable = true)\n",
      " |-- moon_phase: string (nullable = true)\n",
      " |-- moon_illumination: integer (nullable = true)\n",
      " |-- date_only: date (nullable = true)\n",
      "\n"
     ]
    }
   ],
   "source": [
    "df.printSchema()"
   ]
  },
  {
   "cell_type": "code",
   "execution_count": 10,
   "metadata": {
    "application/vnd.databricks.v1+cell": {
     "cellMetadata": {
      "byteLimit": 2048000,
      "rowLimit": 10000
     },
     "inputWidgets": {},
     "nuid": "aa91c82f-ae23-40ff-9709-c7fd7944ca84",
     "showTitle": false,
     "tableResultSettingsMap": {},
     "title": ""
    }
   },
   "outputs": [],
   "source": [
    "df = df.withColumn(\"date\", df[\"date_only\"].cast(\"date\"))"
   ]
  },
  {
   "cell_type": "code",
   "execution_count": 11,
   "metadata": {
    "application/vnd.databricks.v1+cell": {
     "cellMetadata": {
      "byteLimit": 2048000,
      "rowLimit": 10000
     },
     "inputWidgets": {},
     "nuid": "0114406a-16a2-4d4e-ab25-a94be2ae396d",
     "showTitle": false,
     "tableResultSettingsMap": {},
     "title": ""
    }
   },
   "outputs": [],
   "source": [
    "from pyspark.sql.functions import year\n",
    "df = df.withColumn(\"year\", year(df[\"date_only\"]))"
   ]
  },
  {
   "cell_type": "code",
   "execution_count": 12,
   "metadata": {
    "application/vnd.databricks.v1+cell": {
     "cellMetadata": {
      "byteLimit": 2048000,
      "rowLimit": 10000
     },
     "inputWidgets": {},
     "nuid": "bdfc936e-ad3b-4a10-9807-8e6d6bc2e36d",
     "showTitle": false,
     "tableResultSettingsMap": {},
     "title": ""
    }
   },
   "outputs": [
    {
     "name": "stdout",
     "output_type": "stream",
     "text": [
      "+-------------------+----------------+--------+---------+--------------------+------------------+-------------------+-------------------+----------------------+--------------------+--------+--------+-----------+--------------+-----------+-----------+---------+---------+--------+-----+------------------+---------------------+-------------+----------------+--------+--------+--------+---------------------------+-----------------+----------------------------+---------------------------+-----------------+----------------+------------------------+--------------------------+--------+--------+--------+----------+--------------+-----------------+----------+----------+----+\n",
      "|            country|   location_name|latitude|longitude|            timezone|last_updated_epoch|       last_updated|temperature_celsius|temperature_fahrenheit|      condition_text|wind_mph|wind_kph|wind_degree|wind_direction|pressure_mb|pressure_in|precip_mm|precip_in|humidity|cloud|feels_like_celsius|feels_like_fahrenheit|visibility_km|visibility_miles|uv_index|gust_mph|gust_kph|air_quality_Carbon_Monoxide|air_quality_Ozone|air_quality_Nitrogen_dioxide|air_quality_Sulphur_dioxide|air_quality_PM2.5|air_quality_PM10|air_quality_us-epa-index|air_quality_gb-defra-index| sunrise|  sunset|moonrise|   moonset|    moon_phase|moon_illumination| date_only|      date|year|\n",
      "+-------------------+----------------+--------+---------+--------------------+------------------+-------------------+-------------------+----------------------+--------------------+--------+--------+-----------+--------------+-----------+-----------+---------+---------+--------+-----+------------------+---------------------+-------------+----------------+--------+--------+--------+---------------------------+-----------------+----------------------------+---------------------------+-----------------+----------------+------------------------+--------------------------+--------+--------+--------+----------+--------------+-----------------+----------+----------+----+\n",
      "|        Afghanistan|           Kabul|   34.52|    69.18|          Asia/Kabul|        1715849100|2024-05-16 13:15:00|               26.6|                  79.8|       Partly Cloudy|     8.3|    13.3|        338|           NNW|     1012.0|      29.89|      0.0|      0.0|      24|   30|              25.3|                 77.5|         10.0|             6.0|     7.0|     9.5|    15.3|                      277.0|            103.0|                         1.1|                        0.2|              8.4|            26.6|                       1|                         1|04:50 AM|06:50 PM|12:12 PM|  01:11 AM|Waxing Gibbous|               55|2024-05-16|2024-05-16|2024|\n",
      "|            Albania|          Tirana|   41.33|    19.82|       Europe/Tirane|        1715849100|2024-05-16 10:45:00|               19.0|                  66.2|       Partly cloudy|     6.9|    11.2|        320|            NW|     1012.0|      29.88|      0.1|      0.0|      94|   75|              19.0|                 66.2|         10.0|             6.0|     5.0|    11.4|    18.4|                      193.6|             97.3|                         0.9|                        0.1|              1.1|             2.0|                       1|                         1|05:21 AM|07:54 PM|12:58 PM|  02:14 AM|Waxing Gibbous|               55|2024-05-16|2024-05-16|2024|\n",
      "|            Algeria|         Algiers|   36.76|     3.05|      Africa/Algiers|        1715849100|2024-05-16 09:45:00|               23.0|                  73.4|               Sunny|     9.4|    15.1|        280|             W|     1011.0|      29.85|      0.0|      0.0|      29|    0|              24.6|                 76.4|         10.0|             6.0|     5.0|    13.9|    22.3|                      540.7|             12.2|                        65.1|                       13.4|             10.4|            18.4|                       1|                         1|05:40 AM|07:50 PM|01:15 PM|  02:14 AM|Waxing Gibbous|               55|2024-05-16|2024-05-16|2024|\n",
      "|            Andorra|Andorra La Vella|    42.5|     1.52|      Europe/Andorra|        1715849100|2024-05-16 10:45:00|                6.3|                  43.3|       Light drizzle|     7.4|    11.9|        215|            SW|     1007.0|      29.75|      0.3|     0.01|      61|  100|               3.8|                 38.9|          2.0|             1.0|     2.0|     8.5|    13.7|                      170.2|             64.4|                         1.6|                        0.2|              0.7|             0.9|                       1|                         1|06:31 AM|09:11 PM|02:12 PM|  03:31 AM|Waxing Gibbous|               55|2024-05-16|2024-05-16|2024|\n",
      "|             Angola|          Luanda|   -8.84|    13.23|       Africa/Luanda|        1715849100|2024-05-16 09:45:00|               26.0|                  78.8|       Partly cloudy|     8.1|    13.0|        150|           SSE|     1011.0|      29.85|      0.0|      0.0|      89|   50|              28.7|                 83.6|         10.0|             6.0|     8.0|    12.5|    20.2|                     2964.0|             19.0|                        72.7|                       31.5|            183.4|           262.3|                       5|                        10|06:12 AM|05:55 PM|01:17 PM|  12:38 AM|Waxing Gibbous|               55|2024-05-16|2024-05-16|2024|\n",
      "|Antigua and Barbuda|    Saint John's|   17.12|   -61.85|     America/Antigua|        1715849100|2024-05-16 04:45:00|               26.0|                  78.8|       Partly cloudy|     5.6|     9.0|         90|             E|     1013.0|      29.91|     0.02|      0.0|      84|   25|              28.2|                 82.8|         10.0|             6.0|     1.0|    15.7|    25.3|                      220.3|             29.0|                         0.2|                        0.2|              1.2|             4.5|                       1|                         1|05:36 AM|06:32 PM|01:05 PM|  01:14 AM|Waxing Gibbous|               55|2024-05-16|2024-05-16|2024|\n",
      "|          Argentina|    Buenos Aires|  -34.59|   -58.67|America/Argentina...|        1715849100|2024-05-16 05:45:00|                8.0|                  46.4|               Clear|     2.2|     3.6|         10|             N|     1014.0|      29.94|      0.0|      0.0|      93|    0|               7.1|                 44.9|         10.0|             6.0|     1.0|     6.5|    10.5|                      270.4|              7.7|                         8.3|                        1.3|              4.0|             5.3|                       1|                         1|07:43 AM|05:59 PM|02:36 PM|  01:04 AM|Waxing Gibbous|               55|2024-05-16|2024-05-16|2024|\n",
      "|            Armenia|         Yerevan|   40.18|    44.51|        Asia/Yerevan|        1715849100|2024-05-16 12:45:00|               19.0|                  66.2|       Partly cloudy|     4.3|     6.8|        140|            SE|     1017.0|      30.03|     0.13|     0.01|      40|   25|              19.0|                 66.2|         10.0|             6.0|     4.0|     6.2|     9.9|                      186.9|            103.0|                         1.0|                        0.3|              0.8|             0.9|                       1|                         1|05:45 AM|08:12 PM|01:17 PM|  02:31 AM|Waxing Gibbous|               55|2024-05-16|2024-05-16|2024|\n",
      "|          Australia|        Canberra|  -35.28|   149.22|    Australia/Sydney|        1715849100|2024-05-16 18:45:00|                9.0|                  48.2|               Clear|     2.5|     4.0|        100|             E|     1027.0|      30.33|      0.0|      0.0|      87|    0|               9.1|                 48.5|         10.0|             6.0|     1.0|     3.3|     5.3|                      277.0|             26.8|                        15.1|                        1.0|              3.7|             5.4|                       1|                         1|06:52 AM|05:07 PM|01:31 PM|No moonset|Waxing Gibbous|               55|2024-05-16|2024-05-16|2024|\n",
      "|            Austria|          Vienna|    48.2|    16.37|       Europe/Vienna|        1715849100|2024-05-16 10:45:00|               16.0|                  60.8|       Partly cloudy|    12.5|    20.2|        110|           ESE|     1013.0|      29.91|      0.0|      0.0|      63|   75|              16.0|                 60.8|         10.0|             6.0|     5.0|    19.8|    31.9|                      220.3|             68.7|                         5.1|                        4.1|              3.7|             4.4|                       1|                         1|05:14 AM|08:29 PM|01:00 PM|  02:42 AM|Waxing Gibbous|               55|2024-05-16|2024-05-16|2024|\n",
      "|         Azerbaijan|            Baku|    40.4|    49.88|           Asia/Baku|        1715849100|2024-05-16 12:45:00|               17.0|                  62.6|       Partly cloudy|     4.3|     6.8|         20|           NNE|     1020.0|      30.12|      0.0|      0.0|      68|   50|              17.0|                 62.6|         10.0|             6.0|     5.0|     4.6|     7.4|                      227.0|             81.5|                         7.1|                        1.8|              1.9|             2.2|                       1|                         1|05:23 AM|07:51 PM|12:54 PM|  02:10 AM|Waxing Gibbous|               55|2024-05-16|2024-05-16|2024|\n",
      "|            Bahamas|          Nassau|   25.08|   -77.35|      America/Nassau|        1715849100|2024-05-16 04:45:00|               27.0|                  80.6|       Partly cloudy|    16.1|    25.9|        180|             S|     1012.0|      29.87|      0.0|      0.0|      89|   50|              31.1|                 88.0|         10.0|             6.0|     1.0|    24.2|    39.0|                      330.5|             59.4|                         1.2|                        1.5|             12.2|            24.6|                       1|                         2|06:24 AM|07:48 PM|02:01 PM|  02:26 AM|Waxing Gibbous|               55|2024-05-16|2024-05-16|2024|\n",
      "|            Bahrain|          Manama|   26.24|    50.58|        Asia/Bahrain|        1715849100|2024-05-16 11:45:00|               36.0|                  96.8|               Sunny|    13.6|    22.0|        140|            SE|     1007.0|      29.74|      0.0|      0.0|      33|    0|              45.4|                113.6|         10.0|             6.0|     8.0|    18.1|    29.2|                      397.2|            100.1|                        18.5|                        9.7|             39.0|           114.3|                       2|                         4|04:50 AM|06:18 PM|12:10 PM|  12:45 AM|Waxing Gibbous|               55|2024-05-16|2024-05-16|2024|\n",
      "|         Bangladesh|           Dhaka|   23.72|    90.41|          Asia/Dhaka|        1715849100|2024-05-16 14:45:00|               38.4|                 101.2|       Partly Cloudy|     4.3|     6.8|        222|            SW|     1006.0|      29.71|      0.0|      0.0|      31|   30|              41.3|                106.4|         10.0|             6.0|     9.0|     4.9|     7.9|                      520.7|            188.8|                         8.7|                        4.7|             49.7|            57.0|                       3|                         6|05:16 AM|06:34 PM|12:28 PM|  12:58 AM|Waxing Gibbous|               55|2024-05-16|2024-05-16|2024|\n",
      "|           Barbados|      Bridgetown|    13.1|   -59.62|    America/Barbados|        1715849100|2024-05-16 04:45:00|               28.0|                  82.4|       Partly cloudy|    16.1|    25.9|         90|             E|     1012.0|      29.88|      0.0|      0.0|      74|   50|              31.9|                 89.4|         10.0|             6.0|     1.0|    19.7|    31.8|                      257.0|             21.1|                         1.0|                        0.9|              1.9|             8.2|                       1|                         1|05:33 AM|06:17 PM|12:59 PM|  01:00 AM|Waxing Gibbous|               55|2024-05-16|2024-05-16|2024|\n",
      "|            Belarus|           Minsk|    53.9|    27.57|        Europe/Minsk|        1715849100|2024-05-16 11:45:00|               17.0|                  62.6|               Sunny|    11.9|    19.1|        150|           SSE|     1027.0|      30.33|      0.0|      0.0|      29|    0|              17.0|                 62.6|         10.0|             6.0|     4.0|    16.3|    26.3|                      201.9|             88.7|                         1.4|                        2.1|              1.6|             1.7|                       1|                         1|05:05 AM|09:08 PM|12:59 PM|  03:13 AM|Waxing Gibbous|               55|2024-05-16|2024-05-16|2024|\n",
      "|            Belgium|        Brussels|   50.83|     4.33|     Europe/Brussels|        1715849100|2024-05-16 10:45:00|               15.0|                  59.0|       Partly cloudy|     3.8|     6.1|        240|           WSW|     1003.0|      29.62|     0.25|     0.01|      94|   50|              14.6|                 58.2|         10.0|             6.0|     3.0|     8.8|    14.2|                      277.0|             11.2|                        22.3|                        3.4|             14.7|            15.8|                       1|                         2|05:52 AM|09:28 PM|01:45 PM|  03:38 AM|Waxing Gibbous|               55|2024-05-16|2024-05-16|2024|\n",
      "|             Belize|        Belmopan|   17.25|   -88.77|      America/Belize|        1715849100|2024-05-16 02:45:00|               26.0|                  78.9|            Overcast|     4.3|     6.8|         99|             E|     1007.0|      29.75|      0.0|      0.0|      89|   94|              29.6|                 85.3|         10.0|             6.0|     1.0|     6.5|    10.4|                      307.1|             34.0|                         0.3|                        0.2|              7.7|            32.1|                       1|                         1|05:23 AM|06:20 PM|12:56 PM|  01:04 AM|Waxing Gibbous|               55|2024-05-16|2024-05-16|2024|\n",
      "|              Benin|      Porto-Novo|    6.48|     2.62|   Africa/Porto-Novo|        1715849100|2024-05-16 09:45:00|               28.0|                  82.4|Moderate or heavy...|    15.0|    24.1|        210|           SSW|     1012.0|      29.88|     0.02|      0.0|      79|   75|              31.2|                 88.1|         10.0|             6.0|     7.0|    19.5|    31.3|                      587.5|             14.5|                         4.5|                        2.2|              8.2|            15.7|                       1|                         1|06:33 AM|06:59 PM|01:48 PM|  01:38 AM|Waxing Gibbous|               55|2024-05-16|2024-05-16|2024|\n",
      "|             Bhutan|         Thimphu|   27.48|     89.6|        Asia/Thimphu|        1715849100|2024-05-16 14:45:00|               18.2|                  64.8|Patchy light rain...|     7.2|    11.5|        142|            SE|     1012.0|      29.87|     0.16|     0.01|      50|   77|              18.2|                 64.8|         10.0|             6.0|     4.0|     8.6|    13.9|                      280.4|             69.4|                         0.2|                        0.7|              9.3|            11.5|                       1|                         1|05:12 AM|06:44 PM|12:27 PM|  01:07 AM|Waxing Gibbous|               55|2024-05-16|2024-05-16|2024|\n",
      "+-------------------+----------------+--------+---------+--------------------+------------------+-------------------+-------------------+----------------------+--------------------+--------+--------+-----------+--------------+-----------+-----------+---------+---------+--------+-----+------------------+---------------------+-------------+----------------+--------+--------+--------+---------------------------+-----------------+----------------------------+---------------------------+-----------------+----------------+------------------------+--------------------------+--------+--------+--------+----------+--------------+-----------------+----------+----------+----+\n",
      "only showing top 20 rows\n",
      "\n"
     ]
    }
   ],
   "source": [
    "df.show()"
   ]
  },
  {
   "cell_type": "code",
   "execution_count": 13,
   "metadata": {
    "application/vnd.databricks.v1+cell": {
     "cellMetadata": {
      "byteLimit": 2048000,
      "rowLimit": 10000
     },
     "inputWidgets": {},
     "nuid": "632ba522-c612-49c2-a141-4a865529ba16",
     "showTitle": false,
     "tableResultSettingsMap": {},
     "title": ""
    }
   },
   "outputs": [
    {
     "name": "stdout",
     "output_type": "stream",
     "text": [
      "root\n",
      " |-- country: string (nullable = true)\n",
      " |-- location_name: string (nullable = true)\n",
      " |-- latitude: double (nullable = true)\n",
      " |-- longitude: double (nullable = true)\n",
      " |-- timezone: string (nullable = true)\n",
      " |-- last_updated_epoch: integer (nullable = true)\n",
      " |-- last_updated: timestamp (nullable = true)\n",
      " |-- temperature_celsius: double (nullable = true)\n",
      " |-- temperature_fahrenheit: double (nullable = true)\n",
      " |-- condition_text: string (nullable = true)\n",
      " |-- wind_mph: double (nullable = true)\n",
      " |-- wind_kph: double (nullable = true)\n",
      " |-- wind_degree: integer (nullable = true)\n",
      " |-- wind_direction: string (nullable = true)\n",
      " |-- pressure_mb: double (nullable = true)\n",
      " |-- pressure_in: double (nullable = true)\n",
      " |-- precip_mm: double (nullable = true)\n",
      " |-- precip_in: double (nullable = true)\n",
      " |-- humidity: integer (nullable = true)\n",
      " |-- cloud: integer (nullable = true)\n",
      " |-- feels_like_celsius: double (nullable = true)\n",
      " |-- feels_like_fahrenheit: double (nullable = true)\n",
      " |-- visibility_km: double (nullable = true)\n",
      " |-- visibility_miles: double (nullable = true)\n",
      " |-- uv_index: double (nullable = true)\n",
      " |-- gust_mph: double (nullable = true)\n",
      " |-- gust_kph: double (nullable = true)\n",
      " |-- air_quality_Carbon_Monoxide: double (nullable = true)\n",
      " |-- air_quality_Ozone: double (nullable = true)\n",
      " |-- air_quality_Nitrogen_dioxide: double (nullable = true)\n",
      " |-- air_quality_Sulphur_dioxide: double (nullable = true)\n",
      " |-- air_quality_PM2.5: double (nullable = true)\n",
      " |-- air_quality_PM10: double (nullable = true)\n",
      " |-- air_quality_us-epa-index: integer (nullable = true)\n",
      " |-- air_quality_gb-defra-index: integer (nullable = true)\n",
      " |-- sunrise: string (nullable = true)\n",
      " |-- sunset: string (nullable = true)\n",
      " |-- moonrise: string (nullable = true)\n",
      " |-- moonset: string (nullable = true)\n",
      " |-- moon_phase: string (nullable = true)\n",
      " |-- moon_illumination: integer (nullable = true)\n",
      " |-- date_only: date (nullable = true)\n",
      " |-- date: date (nullable = true)\n",
      " |-- year: integer (nullable = true)\n",
      "\n"
     ]
    }
   ],
   "source": [
    "df.printSchema()"
   ]
  },
  {
   "cell_type": "code",
   "execution_count": 14,
   "metadata": {
    "application/vnd.databricks.v1+cell": {
     "cellMetadata": {
      "byteLimit": 2048000,
      "rowLimit": 10000
     },
     "inputWidgets": {},
     "nuid": "db5ae293-8883-4b56-86d8-eb3bba91b928",
     "showTitle": false,
     "tableResultSettingsMap": {},
     "title": ""
    }
   },
   "outputs": [
    {
     "name": "stdout",
     "output_type": "stream",
     "text": [
      "+----+\n",
      "|year|\n",
      "+----+\n",
      "|2024|\n",
      "|2024|\n",
      "|2024|\n",
      "|2024|\n",
      "|2024|\n",
      "|2024|\n",
      "|2024|\n",
      "|2024|\n",
      "|2024|\n",
      "|2024|\n",
      "|2024|\n",
      "|2024|\n",
      "|2024|\n",
      "|2024|\n",
      "|2024|\n",
      "|2024|\n",
      "|2024|\n",
      "|2024|\n",
      "|2024|\n",
      "|2024|\n",
      "+----+\n",
      "only showing top 20 rows\n",
      "\n"
     ]
    }
   ],
   "source": [
    "df.select(\"year\").show()"
   ]
  },
  {
   "cell_type": "code",
   "execution_count": 15,
   "metadata": {
    "application/vnd.databricks.v1+cell": {
     "cellMetadata": {
      "byteLimit": 2048000,
      "rowLimit": 10000
     },
     "inputWidgets": {},
     "nuid": "3308cea2-f8f9-492d-aa0f-d5bb26460477",
     "showTitle": false,
     "tableResultSettingsMap": {},
     "title": ""
    }
   },
   "outputs": [],
   "source": [
    "from pyspark.sql.functions import month\n",
    "df = df.withColumn(\"month\", month(df[\"date\"]))"
   ]
  },
  {
   "cell_type": "code",
   "execution_count": 16,
   "metadata": {
    "application/vnd.databricks.v1+cell": {
     "cellMetadata": {
      "byteLimit": 2048000,
      "rowLimit": 10000
     },
     "inputWidgets": {},
     "nuid": "3f6efd50-865c-4cc9-8f47-8e724d7c4935",
     "showTitle": false,
     "tableResultSettingsMap": {},
     "title": ""
    }
   },
   "outputs": [
    {
     "name": "stdout",
     "output_type": "stream",
     "text": [
      "+-----+\n",
      "|month|\n",
      "+-----+\n",
      "|    5|\n",
      "|    5|\n",
      "|    5|\n",
      "|    5|\n",
      "|    5|\n",
      "|    5|\n",
      "|    5|\n",
      "|    5|\n",
      "|    5|\n",
      "|    5|\n",
      "|    5|\n",
      "|    5|\n",
      "|    5|\n",
      "|    5|\n",
      "|    5|\n",
      "|    5|\n",
      "|    5|\n",
      "|    5|\n",
      "|    5|\n",
      "|    5|\n",
      "+-----+\n",
      "only showing top 20 rows\n",
      "\n"
     ]
    }
   ],
   "source": [
    "df.select(\"month\").show()"
   ]
  },
  {
   "cell_type": "code",
   "execution_count": 17,
   "metadata": {
    "application/vnd.databricks.v1+cell": {
     "cellMetadata": {
      "byteLimit": 2048000,
      "rowLimit": 10000
     },
     "inputWidgets": {},
     "nuid": "1ca2fda4-79ff-4609-a470-788aa242509e",
     "showTitle": false,
     "tableResultSettingsMap": {},
     "title": ""
    }
   },
   "outputs": [],
   "source": [
    "from pyspark.sql.functions import dayofmonth\n",
    "df = df.withColumn(\"day\", dayofmonth(df[\"date\"]))"
   ]
  },
  {
   "cell_type": "code",
   "execution_count": 18,
   "metadata": {
    "application/vnd.databricks.v1+cell": {
     "cellMetadata": {
      "byteLimit": 2048000,
      "rowLimit": 10000
     },
     "inputWidgets": {},
     "nuid": "a6c45db4-7be2-4799-b882-94213bdba1ad",
     "showTitle": false,
     "tableResultSettingsMap": {},
     "title": ""
    }
   },
   "outputs": [
    {
     "name": "stdout",
     "output_type": "stream",
     "text": [
      "+----------+---+\n",
      "|      date|day|\n",
      "+----------+---+\n",
      "|2024-05-16| 16|\n",
      "|2024-05-16| 16|\n",
      "|2024-05-16| 16|\n",
      "|2024-05-16| 16|\n",
      "|2024-05-16| 16|\n",
      "|2024-05-16| 16|\n",
      "|2024-05-16| 16|\n",
      "|2024-05-16| 16|\n",
      "|2024-05-16| 16|\n",
      "|2024-05-16| 16|\n",
      "|2024-05-16| 16|\n",
      "|2024-05-16| 16|\n",
      "|2024-05-16| 16|\n",
      "|2024-05-16| 16|\n",
      "|2024-05-16| 16|\n",
      "|2024-05-16| 16|\n",
      "|2024-05-16| 16|\n",
      "|2024-05-16| 16|\n",
      "|2024-05-16| 16|\n",
      "|2024-05-16| 16|\n",
      "+----------+---+\n",
      "only showing top 20 rows\n",
      "\n"
     ]
    }
   ],
   "source": [
    "df.select(\"date\", \"day\").show()"
   ]
  },
  {
   "cell_type": "code",
   "execution_count": 19,
   "metadata": {
    "application/vnd.databricks.v1+cell": {
     "cellMetadata": {
      "byteLimit": 2048000,
      "rowLimit": 10000
     },
     "inputWidgets": {},
     "nuid": "c7a3b08b-646f-445e-beb6-52fd3b905e64",
     "showTitle": false,
     "tableResultSettingsMap": {},
     "title": ""
    }
   },
   "outputs": [
    {
     "name": "stdout",
     "output_type": "stream",
     "text": [
      "root\n",
      " |-- country: string (nullable = true)\n",
      " |-- location_name: string (nullable = true)\n",
      " |-- latitude: double (nullable = true)\n",
      " |-- longitude: double (nullable = true)\n",
      " |-- timezone: string (nullable = true)\n",
      " |-- last_updated_epoch: integer (nullable = true)\n",
      " |-- last_updated: timestamp (nullable = true)\n",
      " |-- temperature_celsius: double (nullable = true)\n",
      " |-- temperature_fahrenheit: double (nullable = true)\n",
      " |-- condition_text: string (nullable = true)\n",
      " |-- wind_mph: double (nullable = true)\n",
      " |-- wind_kph: double (nullable = true)\n",
      " |-- wind_degree: integer (nullable = true)\n",
      " |-- wind_direction: string (nullable = true)\n",
      " |-- pressure_mb: double (nullable = true)\n",
      " |-- pressure_in: double (nullable = true)\n",
      " |-- precip_mm: double (nullable = true)\n",
      " |-- precip_in: double (nullable = true)\n",
      " |-- humidity: integer (nullable = true)\n",
      " |-- cloud: integer (nullable = true)\n",
      " |-- feels_like_celsius: double (nullable = true)\n",
      " |-- feels_like_fahrenheit: double (nullable = true)\n",
      " |-- visibility_km: double (nullable = true)\n",
      " |-- visibility_miles: double (nullable = true)\n",
      " |-- uv_index: double (nullable = true)\n",
      " |-- gust_mph: double (nullable = true)\n",
      " |-- gust_kph: double (nullable = true)\n",
      " |-- air_quality_Carbon_Monoxide: double (nullable = true)\n",
      " |-- air_quality_Ozone: double (nullable = true)\n",
      " |-- air_quality_Nitrogen_dioxide: double (nullable = true)\n",
      " |-- air_quality_Sulphur_dioxide: double (nullable = true)\n",
      " |-- air_quality_PM2.5: double (nullable = true)\n",
      " |-- air_quality_PM10: double (nullable = true)\n",
      " |-- air_quality_us-epa-index: integer (nullable = true)\n",
      " |-- air_quality_gb-defra-index: integer (nullable = true)\n",
      " |-- sunrise: string (nullable = true)\n",
      " |-- sunset: string (nullable = true)\n",
      " |-- moonrise: string (nullable = true)\n",
      " |-- moonset: string (nullable = true)\n",
      " |-- moon_phase: string (nullable = true)\n",
      " |-- moon_illumination: integer (nullable = true)\n",
      " |-- date_only: date (nullable = true)\n",
      " |-- date: date (nullable = true)\n",
      " |-- year: integer (nullable = true)\n",
      " |-- month: integer (nullable = true)\n",
      " |-- day: integer (nullable = true)\n",
      "\n"
     ]
    }
   ],
   "source": [
    "df.printSchema()"
   ]
  },
  {
   "cell_type": "code",
   "execution_count": 20,
   "metadata": {
    "application/vnd.databricks.v1+cell": {
     "cellMetadata": {
      "byteLimit": 2048000,
      "rowLimit": 10000
     },
     "inputWidgets": {},
     "nuid": "968b43f4-48c0-42a0-8805-6f71b1ba7790",
     "showTitle": false,
     "tableResultSettingsMap": {},
     "title": ""
    }
   },
   "outputs": [
    {
     "name": "stdout",
     "output_type": "stream",
     "text": [
      "+---------+\n",
      "|precip_mm|\n",
      "+---------+\n",
      "|      0.0|\n",
      "|      0.1|\n",
      "|      0.0|\n",
      "|      0.3|\n",
      "|      0.0|\n",
      "|     0.02|\n",
      "|      0.0|\n",
      "|     0.13|\n",
      "|      0.0|\n",
      "|      0.0|\n",
      "|      0.0|\n",
      "|      0.0|\n",
      "|      0.0|\n",
      "|      0.0|\n",
      "|      0.0|\n",
      "|      0.0|\n",
      "|     0.25|\n",
      "|      0.0|\n",
      "|     0.02|\n",
      "|     0.16|\n",
      "+---------+\n",
      "only showing top 20 rows\n",
      "\n"
     ]
    }
   ],
   "source": [
    "df.select(\"precip_mm\").show()"
   ]
  },
  {
   "cell_type": "code",
   "execution_count": 21,
   "metadata": {
    "application/vnd.databricks.v1+cell": {
     "cellMetadata": {
      "byteLimit": 2048000,
      "rowLimit": 10000
     },
     "inputWidgets": {},
     "nuid": "e0c99bbf-58a5-49dc-8914-360c12080b72",
     "showTitle": false,
     "tableResultSettingsMap": {},
     "title": ""
    }
   },
   "outputs": [
    {
     "name": "stdout",
     "output_type": "stream",
     "text": [
      "+----------------------+\n",
      "|temperature_fahrenheit|\n",
      "+----------------------+\n",
      "|                  79.8|\n",
      "|                  66.2|\n",
      "|                  73.4|\n",
      "|                  43.3|\n",
      "|                  78.8|\n",
      "|                  78.8|\n",
      "|                  46.4|\n",
      "|                  66.2|\n",
      "|                  48.2|\n",
      "|                  60.8|\n",
      "|                  62.6|\n",
      "|                  80.6|\n",
      "|                  96.8|\n",
      "|                 101.2|\n",
      "|                  82.4|\n",
      "|                  62.6|\n",
      "|                  59.0|\n",
      "|                  78.9|\n",
      "|                  82.4|\n",
      "|                  64.8|\n",
      "+----------------------+\n",
      "only showing top 20 rows\n",
      "\n"
     ]
    }
   ],
   "source": [
    "df.select(\"temperature_fahrenheit\").show()"
   ]
  },
  {
   "cell_type": "code",
   "execution_count": 22,
   "metadata": {
    "application/vnd.databricks.v1+cell": {
     "cellMetadata": {
      "byteLimit": 2048000,
      "rowLimit": 10000
     },
     "inputWidgets": {},
     "nuid": "5dc049bd-5f70-4a70-bb7b-33556c1cf99d",
     "showTitle": false,
     "tableResultSettingsMap": {},
     "title": ""
    }
   },
   "outputs": [],
   "source": [
    "from pyspark.sql.types import FloatType\n",
    "df = df.withColumn(\"precip_in\", df[\"precip_in\"].cast(FloatType()))"
   ]
  },
  {
   "cell_type": "code",
   "execution_count": 23,
   "metadata": {
    "application/vnd.databricks.v1+cell": {
     "cellMetadata": {
      "byteLimit": 2048000,
      "rowLimit": 10000
     },
     "inputWidgets": {},
     "nuid": "e102bf7b-c33b-4205-bcbf-302963e54f9f",
     "showTitle": false,
     "tableResultSettingsMap": {},
     "title": ""
    }
   },
   "outputs": [
    {
     "name": "stdout",
     "output_type": "stream",
     "text": [
      "root\n",
      " |-- country: string (nullable = true)\n",
      " |-- location_name: string (nullable = true)\n",
      " |-- latitude: double (nullable = true)\n",
      " |-- longitude: double (nullable = true)\n",
      " |-- timezone: string (nullable = true)\n",
      " |-- last_updated_epoch: integer (nullable = true)\n",
      " |-- last_updated: timestamp (nullable = true)\n",
      " |-- temperature_celsius: double (nullable = true)\n",
      " |-- temperature_fahrenheit: double (nullable = true)\n",
      " |-- condition_text: string (nullable = true)\n",
      " |-- wind_mph: double (nullable = true)\n",
      " |-- wind_kph: double (nullable = true)\n",
      " |-- wind_degree: integer (nullable = true)\n",
      " |-- wind_direction: string (nullable = true)\n",
      " |-- pressure_mb: double (nullable = true)\n",
      " |-- pressure_in: double (nullable = true)\n",
      " |-- precip_mm: double (nullable = true)\n",
      " |-- precip_in: float (nullable = true)\n",
      " |-- humidity: integer (nullable = true)\n",
      " |-- cloud: integer (nullable = true)\n",
      " |-- feels_like_celsius: double (nullable = true)\n",
      " |-- feels_like_fahrenheit: double (nullable = true)\n",
      " |-- visibility_km: double (nullable = true)\n",
      " |-- visibility_miles: double (nullable = true)\n",
      " |-- uv_index: double (nullable = true)\n",
      " |-- gust_mph: double (nullable = true)\n",
      " |-- gust_kph: double (nullable = true)\n",
      " |-- air_quality_Carbon_Monoxide: double (nullable = true)\n",
      " |-- air_quality_Ozone: double (nullable = true)\n",
      " |-- air_quality_Nitrogen_dioxide: double (nullable = true)\n",
      " |-- air_quality_Sulphur_dioxide: double (nullable = true)\n",
      " |-- air_quality_PM2.5: double (nullable = true)\n",
      " |-- air_quality_PM10: double (nullable = true)\n",
      " |-- air_quality_us-epa-index: integer (nullable = true)\n",
      " |-- air_quality_gb-defra-index: integer (nullable = true)\n",
      " |-- sunrise: string (nullable = true)\n",
      " |-- sunset: string (nullable = true)\n",
      " |-- moonrise: string (nullable = true)\n",
      " |-- moonset: string (nullable = true)\n",
      " |-- moon_phase: string (nullable = true)\n",
      " |-- moon_illumination: integer (nullable = true)\n",
      " |-- date_only: date (nullable = true)\n",
      " |-- date: date (nullable = true)\n",
      " |-- year: integer (nullable = true)\n",
      " |-- month: integer (nullable = true)\n",
      " |-- day: integer (nullable = true)\n",
      "\n"
     ]
    }
   ],
   "source": [
    "df.printSchema()"
   ]
  },
  {
   "cell_type": "code",
   "execution_count": 24,
   "metadata": {
    "application/vnd.databricks.v1+cell": {
     "cellMetadata": {
      "byteLimit": 2048000,
      "rowLimit": 10000
     },
     "inputWidgets": {},
     "nuid": "14d1d578-b0d8-4fd7-97a8-6ecbc43bfd81",
     "showTitle": false,
     "tableResultSettingsMap": {},
     "title": ""
    }
   },
   "outputs": [],
   "source": [
    "df = df.na.fill({\"precip_in\": 0.0})"
   ]
  },
  {
   "cell_type": "code",
   "execution_count": 25,
   "metadata": {
    "application/vnd.databricks.v1+cell": {
     "cellMetadata": {
      "byteLimit": 2048000,
      "rowLimit": 10000
     },
     "inputWidgets": {},
     "nuid": "c1bf84b2-b07e-4192-a27b-2bca55f3e7a7",
     "showTitle": false,
     "tableResultSettingsMap": {},
     "title": ""
    }
   },
   "outputs": [
    {
     "name": "stdout",
     "output_type": "stream",
     "text": [
      "+---------+\n",
      "|precip_in|\n",
      "+---------+\n",
      "|      0.0|\n",
      "|      0.0|\n",
      "|      0.0|\n",
      "|     0.01|\n",
      "|      0.0|\n",
      "|      0.0|\n",
      "|      0.0|\n",
      "|     0.01|\n",
      "|      0.0|\n",
      "|      0.0|\n",
      "+---------+\n",
      "only showing top 10 rows\n",
      "\n"
     ]
    }
   ],
   "source": [
    "df.select(\"precip_in\").show(10)"
   ]
  },
  {
   "cell_type": "code",
   "execution_count": 26,
   "metadata": {},
   "outputs": [],
   "source": [
    "from pyspark.sql.functions import mean, sum\n",
    "\n",
    "# Aggregate by month\n",
    "monthly_data = df.groupBy(\"year\", \"month\").agg(\n",
    "    mean(\"temperature_fahrenheit\").alias(\"avg_temperature\"),\n",
    "    sum(\"precip_in\").alias(\"total_precipitation\")\n",
    ")\n",
    "\n",
    "# Select and show the average temperature\n",
    "#monthly_data.select(\"avg_temperature\").show()\n"
   ]
  },
  {
   "cell_type": "code",
   "execution_count": 27,
   "metadata": {
    "application/vnd.databricks.v1+cell": {
     "cellMetadata": {
      "byteLimit": 2048000,
      "rowLimit": 10000
     },
     "inputWidgets": {},
     "nuid": "c6cfc793-6e3f-428d-ab33-99b34305b137",
     "showTitle": false,
     "tableResultSettingsMap": {},
     "title": ""
    }
   },
   "outputs": [
    {
     "name": "stdout",
     "output_type": "stream",
     "text": [
      "+----+-----+------------------+-------------------+\n",
      "|year|month|   avg_temperature|total_precipitation|\n",
      "+----+-----+------------------+-------------------+\n",
      "|2024|    7| 80.24264468733195|  34.74999968148768|\n",
      "|2024|    5| 77.27550030321397| 20.219999799504876|\n",
      "|2024|    6| 79.62250731875338| 34.859999703243375|\n",
      "|2024|    8|  80.2230934656741|  38.51999959908426|\n",
      "|2024|    9| 77.22641734972692|  37.29999973252416|\n",
      "|2024|   10| 72.20408637873754| 28.579999689012766|\n",
      "|2024|   12| 63.95377998345755|  25.28999970294535|\n",
      "|2024|   11|  66.9664947567473| 30.089999679476023|\n",
      "|2025|    1|63.309157509157394| 28.509999683126807|\n",
      "|2025|    2| 63.07938441808273| 11.769999854266644|\n",
      "+----+-----+------------------+-------------------+\n",
      "\n"
     ]
    }
   ],
   "source": [
    "monthly_data.show()"
   ]
  },
  {
   "cell_type": "code",
   "execution_count": 28,
   "metadata": {
    "application/vnd.databricks.v1+cell": {
     "cellMetadata": {
      "byteLimit": 2048000,
      "rowLimit": 10000
     },
     "inputWidgets": {},
     "nuid": "083914a8-e438-46d2-ac41-fb0f4626668b",
     "showTitle": false,
     "tableResultSettingsMap": {},
     "title": ""
    }
   },
   "outputs": [],
   "source": [
    "ordered_monthly_data = monthly_data.orderBy(\"month\")"
   ]
  },
  {
   "cell_type": "code",
   "execution_count": 29,
   "metadata": {
    "application/vnd.databricks.v1+cell": {
     "cellMetadata": {
      "byteLimit": 2048000,
      "rowLimit": 10000
     },
     "inputWidgets": {},
     "nuid": "ee776479-534f-4995-9107-74f924b3ac47",
     "showTitle": false,
     "tableResultSettingsMap": {},
     "title": ""
    }
   },
   "outputs": [
    {
     "name": "stdout",
     "output_type": "stream",
     "text": [
      "+----+-----+------------------+-------------------+\n",
      "|year|month|   avg_temperature|total_precipitation|\n",
      "+----+-----+------------------+-------------------+\n",
      "|2025|    1|63.309157509157394| 28.509999683126807|\n",
      "|2025|    2| 63.07938441808273| 11.769999854266644|\n",
      "|2024|    5| 77.27550030321397| 20.219999799504876|\n",
      "|2024|    6| 79.62250731875338| 34.859999703243375|\n",
      "|2024|    7| 80.24264468733195|  34.74999968148768|\n",
      "|2024|    8|  80.2230934656741|  38.51999959908426|\n",
      "|2024|    9| 77.22641734972692|  37.29999973252416|\n",
      "|2024|   10| 72.20408637873754| 28.579999689012766|\n",
      "|2024|   11|  66.9664947567473| 30.089999679476023|\n",
      "|2024|   12| 63.95377998345755|  25.28999970294535|\n",
      "+----+-----+------------------+-------------------+\n",
      "\n"
     ]
    }
   ],
   "source": [
    "ordered_monthly_data.show()"
   ]
  },
  {
   "cell_type": "code",
   "execution_count": 30,
   "metadata": {
    "application/vnd.databricks.v1+cell": {
     "cellMetadata": {
      "byteLimit": 2048000,
      "rowLimit": 10000
     },
     "inputWidgets": {},
     "nuid": "9010cb68-9047-4747-a306-854cb6c2f1ff",
     "showTitle": false,
     "tableResultSettingsMap": {},
     "title": ""
    }
   },
   "outputs": [],
   "source": [
    "\n",
    "daily_precipitation = df.groupBy(\"year\", \"month\", \"day\").agg(\n",
    "    sum(\"precip_in\").alias(\"total_precipitation\")\n",
    ")\n"
   ]
  },
  {
   "cell_type": "code",
   "execution_count": 31,
   "metadata": {
    "application/vnd.databricks.v1+cell": {
     "cellMetadata": {
      "byteLimit": 2048000,
      "rowLimit": 10000
     },
     "inputWidgets": {},
     "nuid": "171488bf-8b51-480b-a114-5e77ac9b8d13",
     "showTitle": false,
     "tableResultSettingsMap": {},
     "title": ""
    }
   },
   "outputs": [
    {
     "name": "stdout",
     "output_type": "stream",
     "text": [
      "+----+-----+------------------+-------------------+\n",
      "|year|month|   avg_temperature|total_precipitation|\n",
      "+----+-----+------------------+-------------------+\n",
      "|2024|    7| 80.24264468733195|  34.74999968148768|\n",
      "|2024|    5| 77.27550030321397| 20.219999799504876|\n",
      "|2024|    6| 79.62250731875338| 34.859999703243375|\n",
      "|2024|    8|  80.2230934656741|  38.51999959908426|\n",
      "|2024|    9| 77.22641734972692|  37.29999973252416|\n",
      "|2024|   10| 72.20408637873754| 28.579999689012766|\n",
      "|2024|   12| 63.95377998345755|  25.28999970294535|\n",
      "|2024|   11|  66.9664947567473| 30.089999679476023|\n",
      "|2025|    1|63.309157509157394| 28.509999683126807|\n",
      "|2025|    2| 63.07938441808273| 11.769999854266644|\n",
      "+----+-----+------------------+-------------------+\n",
      "\n"
     ]
    }
   ],
   "source": [
    "\n",
    "# Group by year and month and calculate the average temperature and total precipitation\n",
    "monthly_data = df.groupBy(\"year\", \"month\").agg(\n",
    "    mean(\"temperature_fahrenheit\").alias(\"avg_temperature\"),\n",
    "    sum(\"precip_in\").alias(\"total_precipitation\")\n",
    ")\n",
    "\n",
    "# Show the result\n",
    "monthly_data.show()\n",
    "\n"
   ]
  },
  {
   "cell_type": "code",
   "execution_count": 32,
   "metadata": {},
   "outputs": [
    {
     "name": "stdout",
     "output_type": "stream",
     "text": [
      "+----+-----+---+-----------------+-------------------+\n",
      "|year|month|day|  avg_temperature|total_precipitation|\n",
      "+----+-----+---+-----------------+-------------------+\n",
      "|2024|    6|  8|             79.8| 1.3899999968707561|\n",
      "|2024|    5| 24|77.16051282051282|  1.359999991953373|\n",
      "|2024|    5| 21|77.69076923076922|  1.099999975413084|\n",
      "|2024|    6|  3|79.02615384615382| 1.4200000055134296|\n",
      "|2024|    6| 30|80.44895833333331| 1.1399999912828207|\n",
      "|2024|    6| 26|80.67305699481864| 0.7699999865144491|\n",
      "|2024|    7|  5|79.20454545454552|  1.019999984651804|\n",
      "|2024|    6| 27|80.94923076923077|  1.529999990016222|\n",
      "|2024|    7|  1|79.65384615384616| 1.2999999821186066|\n",
      "|2024|    6|  6|79.76994818652852| 0.4599999915808439|\n",
      "|2024|    6| 28|80.58615384615386| 0.9899999853223562|\n",
      "|2024|    8|  7|80.10512820512828| 0.8099999874830246|\n",
      "|2024|    5| 18|77.63658536585362| 0.9999999813735485|\n",
      "|2024|    5| 23|77.12000000000003| 1.2799999918788671|\n",
      "|2024|    6| 13|79.70717948717949|  1.080000001937151|\n",
      "|2024|    7| 11| 81.4040609137056| 0.9599999971687794|\n",
      "|2024|    6| 16|78.57055837563449| 2.2300000060349703|\n",
      "|2024|    6| 25|78.78011049723756| 1.4299999848008156|\n",
      "|2024|    6| 23|80.08461538461542| 1.3300000131130219|\n",
      "|2024|    6| 22|80.46165803108802| 0.7999999895691872|\n",
      "+----+-----+---+-----------------+-------------------+\n",
      "only showing top 20 rows\n",
      "\n"
     ]
    }
   ],
   "source": [
    "# Daily Aggregation\n",
    "daily_data = df.groupBy(\"year\", \"month\", \"day\").agg(\n",
    "    mean(\"temperature_fahrenheit\").alias(\"avg_temperature\"),\n",
    "    sum(\"precip_in\").alias(\"total_precipitation\")\n",
    ")\n",
    "daily_data.show()"
   ]
  },
  {
   "cell_type": "code",
   "execution_count": 33,
   "metadata": {},
   "outputs": [
    {
     "data": {
      "text/html": [
       "<div>\n",
       "<style scoped>\n",
       "    .dataframe tbody tr th:only-of-type {\n",
       "        vertical-align: middle;\n",
       "    }\n",
       "\n",
       "    .dataframe tbody tr th {\n",
       "        vertical-align: top;\n",
       "    }\n",
       "\n",
       "    .dataframe thead th {\n",
       "        text-align: right;\n",
       "    }\n",
       "</style>\n",
       "<table border=\"1\" class=\"dataframe\">\n",
       "  <thead>\n",
       "    <tr style=\"text-align: right;\">\n",
       "      <th></th>\n",
       "      <th>country</th>\n",
       "      <th>location_name</th>\n",
       "      <th>latitude</th>\n",
       "      <th>longitude</th>\n",
       "      <th>timezone</th>\n",
       "      <th>last_updated_epoch</th>\n",
       "      <th>last_updated</th>\n",
       "      <th>temperature_celsius</th>\n",
       "      <th>temperature_fahrenheit</th>\n",
       "      <th>condition_text</th>\n",
       "      <th>...</th>\n",
       "      <th>sunset</th>\n",
       "      <th>moonrise</th>\n",
       "      <th>moonset</th>\n",
       "      <th>moon_phase</th>\n",
       "      <th>moon_illumination</th>\n",
       "      <th>date_only</th>\n",
       "      <th>date</th>\n",
       "      <th>year</th>\n",
       "      <th>month</th>\n",
       "      <th>day</th>\n",
       "    </tr>\n",
       "  </thead>\n",
       "  <tbody>\n",
       "    <tr>\n",
       "      <th>0</th>\n",
       "      <td>Afghanistan</td>\n",
       "      <td>Kabul</td>\n",
       "      <td>34.5200</td>\n",
       "      <td>69.1800</td>\n",
       "      <td>Asia/Kabul</td>\n",
       "      <td>1715849100</td>\n",
       "      <td>2024-05-16 13:15:00</td>\n",
       "      <td>26.6</td>\n",
       "      <td>79.8</td>\n",
       "      <td>Partly Cloudy</td>\n",
       "      <td>...</td>\n",
       "      <td>06:50 PM</td>\n",
       "      <td>12:12 PM</td>\n",
       "      <td>01:11 AM</td>\n",
       "      <td>Waxing Gibbous</td>\n",
       "      <td>55</td>\n",
       "      <td>2024-05-16</td>\n",
       "      <td>2024-05-16</td>\n",
       "      <td>2024</td>\n",
       "      <td>5</td>\n",
       "      <td>16</td>\n",
       "    </tr>\n",
       "    <tr>\n",
       "      <th>1</th>\n",
       "      <td>Albania</td>\n",
       "      <td>Tirana</td>\n",
       "      <td>41.3300</td>\n",
       "      <td>19.8200</td>\n",
       "      <td>Europe/Tirane</td>\n",
       "      <td>1715849100</td>\n",
       "      <td>2024-05-16 10:45:00</td>\n",
       "      <td>19.0</td>\n",
       "      <td>66.2</td>\n",
       "      <td>Partly cloudy</td>\n",
       "      <td>...</td>\n",
       "      <td>07:54 PM</td>\n",
       "      <td>12:58 PM</td>\n",
       "      <td>02:14 AM</td>\n",
       "      <td>Waxing Gibbous</td>\n",
       "      <td>55</td>\n",
       "      <td>2024-05-16</td>\n",
       "      <td>2024-05-16</td>\n",
       "      <td>2024</td>\n",
       "      <td>5</td>\n",
       "      <td>16</td>\n",
       "    </tr>\n",
       "    <tr>\n",
       "      <th>2</th>\n",
       "      <td>Algeria</td>\n",
       "      <td>Algiers</td>\n",
       "      <td>36.7600</td>\n",
       "      <td>3.0500</td>\n",
       "      <td>Africa/Algiers</td>\n",
       "      <td>1715849100</td>\n",
       "      <td>2024-05-16 09:45:00</td>\n",
       "      <td>23.0</td>\n",
       "      <td>73.4</td>\n",
       "      <td>Sunny</td>\n",
       "      <td>...</td>\n",
       "      <td>07:50 PM</td>\n",
       "      <td>01:15 PM</td>\n",
       "      <td>02:14 AM</td>\n",
       "      <td>Waxing Gibbous</td>\n",
       "      <td>55</td>\n",
       "      <td>2024-05-16</td>\n",
       "      <td>2024-05-16</td>\n",
       "      <td>2024</td>\n",
       "      <td>5</td>\n",
       "      <td>16</td>\n",
       "    </tr>\n",
       "    <tr>\n",
       "      <th>3</th>\n",
       "      <td>Andorra</td>\n",
       "      <td>Andorra La Vella</td>\n",
       "      <td>42.5000</td>\n",
       "      <td>1.5200</td>\n",
       "      <td>Europe/Andorra</td>\n",
       "      <td>1715849100</td>\n",
       "      <td>2024-05-16 10:45:00</td>\n",
       "      <td>6.3</td>\n",
       "      <td>43.3</td>\n",
       "      <td>Light drizzle</td>\n",
       "      <td>...</td>\n",
       "      <td>09:11 PM</td>\n",
       "      <td>02:12 PM</td>\n",
       "      <td>03:31 AM</td>\n",
       "      <td>Waxing Gibbous</td>\n",
       "      <td>55</td>\n",
       "      <td>2024-05-16</td>\n",
       "      <td>2024-05-16</td>\n",
       "      <td>2024</td>\n",
       "      <td>5</td>\n",
       "      <td>16</td>\n",
       "    </tr>\n",
       "    <tr>\n",
       "      <th>4</th>\n",
       "      <td>Angola</td>\n",
       "      <td>Luanda</td>\n",
       "      <td>-8.8400</td>\n",
       "      <td>13.2300</td>\n",
       "      <td>Africa/Luanda</td>\n",
       "      <td>1715849100</td>\n",
       "      <td>2024-05-16 09:45:00</td>\n",
       "      <td>26.0</td>\n",
       "      <td>78.8</td>\n",
       "      <td>Partly cloudy</td>\n",
       "      <td>...</td>\n",
       "      <td>05:55 PM</td>\n",
       "      <td>01:17 PM</td>\n",
       "      <td>12:38 AM</td>\n",
       "      <td>Waxing Gibbous</td>\n",
       "      <td>55</td>\n",
       "      <td>2024-05-16</td>\n",
       "      <td>2024-05-16</td>\n",
       "      <td>2024</td>\n",
       "      <td>5</td>\n",
       "      <td>16</td>\n",
       "    </tr>\n",
       "    <tr>\n",
       "      <th>...</th>\n",
       "      <td>...</td>\n",
       "      <td>...</td>\n",
       "      <td>...</td>\n",
       "      <td>...</td>\n",
       "      <td>...</td>\n",
       "      <td>...</td>\n",
       "      <td>...</td>\n",
       "      <td>...</td>\n",
       "      <td>...</td>\n",
       "      <td>...</td>\n",
       "      <td>...</td>\n",
       "      <td>...</td>\n",
       "      <td>...</td>\n",
       "      <td>...</td>\n",
       "      <td>...</td>\n",
       "      <td>...</td>\n",
       "      <td>...</td>\n",
       "      <td>...</td>\n",
       "      <td>...</td>\n",
       "      <td>...</td>\n",
       "      <td>...</td>\n",
       "    </tr>\n",
       "    <tr>\n",
       "      <th>53589</th>\n",
       "      <td>Venezuela</td>\n",
       "      <td>Caracas</td>\n",
       "      <td>10.5000</td>\n",
       "      <td>-66.9167</td>\n",
       "      <td>America/Caracas</td>\n",
       "      <td>1739700900</td>\n",
       "      <td>2025-02-16 06:15:00</td>\n",
       "      <td>24.3</td>\n",
       "      <td>75.7</td>\n",
       "      <td>Clear</td>\n",
       "      <td>...</td>\n",
       "      <td>06:36 PM</td>\n",
       "      <td>09:53 PM</td>\n",
       "      <td>09:20 AM</td>\n",
       "      <td>Waning Gibbous</td>\n",
       "      <td>88</td>\n",
       "      <td>2025-02-16</td>\n",
       "      <td>2025-02-16</td>\n",
       "      <td>2025</td>\n",
       "      <td>2</td>\n",
       "      <td>16</td>\n",
       "    </tr>\n",
       "    <tr>\n",
       "      <th>53590</th>\n",
       "      <td>Vietnam</td>\n",
       "      <td>Hanoi</td>\n",
       "      <td>21.0333</td>\n",
       "      <td>105.8500</td>\n",
       "      <td>Asia/Bangkok</td>\n",
       "      <td>1739700900</td>\n",
       "      <td>2025-02-16 17:15:00</td>\n",
       "      <td>16.2</td>\n",
       "      <td>61.2</td>\n",
       "      <td>Light rain</td>\n",
       "      <td>...</td>\n",
       "      <td>05:55 PM</td>\n",
       "      <td>09:06 PM</td>\n",
       "      <td>08:29 AM</td>\n",
       "      <td>Waning Gibbous</td>\n",
       "      <td>91</td>\n",
       "      <td>2025-02-16</td>\n",
       "      <td>2025-02-16</td>\n",
       "      <td>2025</td>\n",
       "      <td>2</td>\n",
       "      <td>16</td>\n",
       "    </tr>\n",
       "    <tr>\n",
       "      <th>53591</th>\n",
       "      <td>Yemen</td>\n",
       "      <td>Sanaa</td>\n",
       "      <td>15.3547</td>\n",
       "      <td>44.2067</td>\n",
       "      <td>Asia/Aden</td>\n",
       "      <td>1739700900</td>\n",
       "      <td>2025-02-16 13:15:00</td>\n",
       "      <td>23.8</td>\n",
       "      <td>74.8</td>\n",
       "      <td>Sunny</td>\n",
       "      <td>...</td>\n",
       "      <td>06:07 PM</td>\n",
       "      <td>09:18 PM</td>\n",
       "      <td>08:43 AM</td>\n",
       "      <td>Waning Gibbous</td>\n",
       "      <td>90</td>\n",
       "      <td>2025-02-16</td>\n",
       "      <td>2025-02-16</td>\n",
       "      <td>2025</td>\n",
       "      <td>2</td>\n",
       "      <td>16</td>\n",
       "    </tr>\n",
       "    <tr>\n",
       "      <th>53592</th>\n",
       "      <td>Zambia</td>\n",
       "      <td>Lusaka</td>\n",
       "      <td>-15.4167</td>\n",
       "      <td>28.2833</td>\n",
       "      <td>Africa/Lusaka</td>\n",
       "      <td>1739700900</td>\n",
       "      <td>2025-02-16 12:15:00</td>\n",
       "      <td>22.9</td>\n",
       "      <td>73.3</td>\n",
       "      <td>Patchy rain nearby</td>\n",
       "      <td>...</td>\n",
       "      <td>06:38 PM</td>\n",
       "      <td>09:06 PM</td>\n",
       "      <td>08:59 AM</td>\n",
       "      <td>Waning Gibbous</td>\n",
       "      <td>90</td>\n",
       "      <td>2025-02-16</td>\n",
       "      <td>2025-02-16</td>\n",
       "      <td>2025</td>\n",
       "      <td>2</td>\n",
       "      <td>16</td>\n",
       "    </tr>\n",
       "    <tr>\n",
       "      <th>53593</th>\n",
       "      <td>Zimbabwe</td>\n",
       "      <td>Harare</td>\n",
       "      <td>-17.8178</td>\n",
       "      <td>31.0447</td>\n",
       "      <td>Africa/Harare</td>\n",
       "      <td>1739700900</td>\n",
       "      <td>2025-02-16 12:15:00</td>\n",
       "      <td>25.0</td>\n",
       "      <td>77.1</td>\n",
       "      <td>Patchy rain nearby</td>\n",
       "      <td>...</td>\n",
       "      <td>06:29 PM</td>\n",
       "      <td>08:53 PM</td>\n",
       "      <td>08:48 AM</td>\n",
       "      <td>Waning Gibbous</td>\n",
       "      <td>90</td>\n",
       "      <td>2025-02-16</td>\n",
       "      <td>2025-02-16</td>\n",
       "      <td>2025</td>\n",
       "      <td>2</td>\n",
       "      <td>16</td>\n",
       "    </tr>\n",
       "  </tbody>\n",
       "</table>\n",
       "<p>53594 rows × 46 columns</p>\n",
       "</div>"
      ],
      "text/plain": [
       "           country     location_name  latitude  longitude         timezone  \\\n",
       "0      Afghanistan             Kabul   34.5200    69.1800       Asia/Kabul   \n",
       "1          Albania            Tirana   41.3300    19.8200    Europe/Tirane   \n",
       "2          Algeria           Algiers   36.7600     3.0500   Africa/Algiers   \n",
       "3          Andorra  Andorra La Vella   42.5000     1.5200   Europe/Andorra   \n",
       "4           Angola            Luanda   -8.8400    13.2300    Africa/Luanda   \n",
       "...            ...               ...       ...        ...              ...   \n",
       "53589    Venezuela           Caracas   10.5000   -66.9167  America/Caracas   \n",
       "53590      Vietnam             Hanoi   21.0333   105.8500     Asia/Bangkok   \n",
       "53591        Yemen             Sanaa   15.3547    44.2067        Asia/Aden   \n",
       "53592       Zambia            Lusaka  -15.4167    28.2833    Africa/Lusaka   \n",
       "53593     Zimbabwe            Harare  -17.8178    31.0447    Africa/Harare   \n",
       "\n",
       "       last_updated_epoch        last_updated  temperature_celsius  \\\n",
       "0              1715849100 2024-05-16 13:15:00                 26.6   \n",
       "1              1715849100 2024-05-16 10:45:00                 19.0   \n",
       "2              1715849100 2024-05-16 09:45:00                 23.0   \n",
       "3              1715849100 2024-05-16 10:45:00                  6.3   \n",
       "4              1715849100 2024-05-16 09:45:00                 26.0   \n",
       "...                   ...                 ...                  ...   \n",
       "53589          1739700900 2025-02-16 06:15:00                 24.3   \n",
       "53590          1739700900 2025-02-16 17:15:00                 16.2   \n",
       "53591          1739700900 2025-02-16 13:15:00                 23.8   \n",
       "53592          1739700900 2025-02-16 12:15:00                 22.9   \n",
       "53593          1739700900 2025-02-16 12:15:00                 25.0   \n",
       "\n",
       "       temperature_fahrenheit      condition_text  ...    sunset  moonrise  \\\n",
       "0                        79.8       Partly Cloudy  ...  06:50 PM  12:12 PM   \n",
       "1                        66.2       Partly cloudy  ...  07:54 PM  12:58 PM   \n",
       "2                        73.4               Sunny  ...  07:50 PM  01:15 PM   \n",
       "3                        43.3       Light drizzle  ...  09:11 PM  02:12 PM   \n",
       "4                        78.8       Partly cloudy  ...  05:55 PM  01:17 PM   \n",
       "...                       ...                 ...  ...       ...       ...   \n",
       "53589                    75.7               Clear  ...  06:36 PM  09:53 PM   \n",
       "53590                    61.2          Light rain  ...  05:55 PM  09:06 PM   \n",
       "53591                    74.8               Sunny  ...  06:07 PM  09:18 PM   \n",
       "53592                    73.3  Patchy rain nearby  ...  06:38 PM  09:06 PM   \n",
       "53593                    77.1  Patchy rain nearby  ...  06:29 PM  08:53 PM   \n",
       "\n",
       "        moonset      moon_phase  moon_illumination   date_only        date  \\\n",
       "0      01:11 AM  Waxing Gibbous                 55  2024-05-16  2024-05-16   \n",
       "1      02:14 AM  Waxing Gibbous                 55  2024-05-16  2024-05-16   \n",
       "2      02:14 AM  Waxing Gibbous                 55  2024-05-16  2024-05-16   \n",
       "3      03:31 AM  Waxing Gibbous                 55  2024-05-16  2024-05-16   \n",
       "4      12:38 AM  Waxing Gibbous                 55  2024-05-16  2024-05-16   \n",
       "...         ...             ...                ...         ...         ...   \n",
       "53589  09:20 AM  Waning Gibbous                 88  2025-02-16  2025-02-16   \n",
       "53590  08:29 AM  Waning Gibbous                 91  2025-02-16  2025-02-16   \n",
       "53591  08:43 AM  Waning Gibbous                 90  2025-02-16  2025-02-16   \n",
       "53592  08:59 AM  Waning Gibbous                 90  2025-02-16  2025-02-16   \n",
       "53593  08:48 AM  Waning Gibbous                 90  2025-02-16  2025-02-16   \n",
       "\n",
       "       year  month  day  \n",
       "0      2024      5   16  \n",
       "1      2024      5   16  \n",
       "2      2024      5   16  \n",
       "3      2024      5   16  \n",
       "4      2024      5   16  \n",
       "...     ...    ...  ...  \n",
       "53589  2025      2   16  \n",
       "53590  2025      2   16  \n",
       "53591  2025      2   16  \n",
       "53592  2025      2   16  \n",
       "53593  2025      2   16  \n",
       "\n",
       "[53594 rows x 46 columns]"
      ]
     },
     "execution_count": 33,
     "metadata": {},
     "output_type": "execute_result"
    }
   ],
   "source": [
    "# Convert Spark DataFrame to Pandas DataFrame\n",
    "pandas_df = df.toPandas()\n",
    "\n",
    "# Display the Pandas DataFrame\n",
    "pandas_df\n"
   ]
  },
  {
   "cell_type": "code",
   "execution_count": 34,
   "metadata": {},
   "outputs": [
    {
     "data": {
      "text/plain": [
       "country                         0\n",
       "location_name                   0\n",
       "latitude                        0\n",
       "longitude                       0\n",
       "timezone                        0\n",
       "last_updated_epoch              0\n",
       "last_updated                    0\n",
       "temperature_celsius             0\n",
       "temperature_fahrenheit          0\n",
       "condition_text                  0\n",
       "wind_mph                        0\n",
       "wind_kph                        0\n",
       "wind_degree                     0\n",
       "wind_direction                  0\n",
       "pressure_mb                     0\n",
       "pressure_in                     0\n",
       "precip_mm                       0\n",
       "precip_in                       0\n",
       "humidity                        0\n",
       "cloud                           0\n",
       "feels_like_celsius              0\n",
       "feels_like_fahrenheit           0\n",
       "visibility_km                   0\n",
       "visibility_miles                0\n",
       "uv_index                        0\n",
       "gust_mph                        0\n",
       "gust_kph                        0\n",
       "air_quality_Carbon_Monoxide     0\n",
       "air_quality_Ozone               0\n",
       "air_quality_Nitrogen_dioxide    0\n",
       "air_quality_Sulphur_dioxide     0\n",
       "air_quality_PM2.5               0\n",
       "air_quality_PM10                0\n",
       "air_quality_us-epa-index        0\n",
       "air_quality_gb-defra-index      0\n",
       "sunrise                         0\n",
       "sunset                          0\n",
       "moonrise                        0\n",
       "moonset                         0\n",
       "moon_phase                      0\n",
       "moon_illumination               0\n",
       "date_only                       0\n",
       "date                            0\n",
       "year                            0\n",
       "month                           0\n",
       "day                             0\n",
       "dtype: int64"
      ]
     },
     "execution_count": 34,
     "metadata": {},
     "output_type": "execute_result"
    }
   ],
   "source": [
    "#Check whether there is null values\n",
    "\n",
    "pandas_df.isnull().sum()"
   ]
  },
  {
   "cell_type": "code",
   "execution_count": 35,
   "metadata": {},
   "outputs": [
    {
     "data": {
      "text/html": [
       "<div>\n",
       "<style scoped>\n",
       "    .dataframe tbody tr th:only-of-type {\n",
       "        vertical-align: middle;\n",
       "    }\n",
       "\n",
       "    .dataframe tbody tr th {\n",
       "        vertical-align: top;\n",
       "    }\n",
       "\n",
       "    .dataframe thead th {\n",
       "        text-align: right;\n",
       "    }\n",
       "</style>\n",
       "<table border=\"1\" class=\"dataframe\">\n",
       "  <thead>\n",
       "    <tr style=\"text-align: right;\">\n",
       "      <th></th>\n",
       "      <th>country</th>\n",
       "      <th>location_name</th>\n",
       "      <th>latitude</th>\n",
       "      <th>longitude</th>\n",
       "      <th>timezone</th>\n",
       "      <th>last_updated_epoch</th>\n",
       "      <th>last_updated</th>\n",
       "      <th>temperature_celsius</th>\n",
       "      <th>temperature_fahrenheit</th>\n",
       "      <th>condition_text</th>\n",
       "      <th>...</th>\n",
       "      <th>sunset</th>\n",
       "      <th>moonrise</th>\n",
       "      <th>moonset</th>\n",
       "      <th>moon_phase</th>\n",
       "      <th>moon_illumination</th>\n",
       "      <th>date_only</th>\n",
       "      <th>date</th>\n",
       "      <th>year</th>\n",
       "      <th>month</th>\n",
       "      <th>day</th>\n",
       "    </tr>\n",
       "  </thead>\n",
       "  <tbody>\n",
       "  </tbody>\n",
       "</table>\n",
       "<p>0 rows × 46 columns</p>\n",
       "</div>"
      ],
      "text/plain": [
       "Empty DataFrame\n",
       "Columns: [country, location_name, latitude, longitude, timezone, last_updated_epoch, last_updated, temperature_celsius, temperature_fahrenheit, condition_text, wind_mph, wind_kph, wind_degree, wind_direction, pressure_mb, pressure_in, precip_mm, precip_in, humidity, cloud, feels_like_celsius, feels_like_fahrenheit, visibility_km, visibility_miles, uv_index, gust_mph, gust_kph, air_quality_Carbon_Monoxide, air_quality_Ozone, air_quality_Nitrogen_dioxide, air_quality_Sulphur_dioxide, air_quality_PM2.5, air_quality_PM10, air_quality_us-epa-index, air_quality_gb-defra-index, sunrise, sunset, moonrise, moonset, moon_phase, moon_illumination, date_only, date, year, month, day]\n",
       "Index: []\n",
       "\n",
       "[0 rows x 46 columns]"
      ]
     },
     "execution_count": 35,
     "metadata": {},
     "output_type": "execute_result"
    }
   ],
   "source": [
    "#checking for duplicates\n",
    "duplicates = pandas_df.duplicated()\n",
    "pandas_df[duplicates]"
   ]
  },
  {
   "cell_type": "code",
   "execution_count": 36,
   "metadata": {},
   "outputs": [
    {
     "name": "stdout",
     "output_type": "stream",
     "text": [
      "+-------------------+----------------+--------+---------+--------------------+------------------+-------------------+-------------------+----------------------+--------------------+--------+--------+-----------+--------------+-----------+-----------+---------+---------+--------+-----+------------------+---------------------+-------------+----------------+--------+--------+--------+---------------------------+-----------------+----------------------------+---------------------------+-----------------+----------------+------------------------+--------------------------+--------+--------+--------+----------+--------------+-----------------+----------+----------+----+-----+---+-----------------------+--------------------+--------------------+\n",
      "|            country|   location_name|latitude|longitude|            timezone|last_updated_epoch|       last_updated|temperature_celsius|temperature_fahrenheit|      condition_text|wind_mph|wind_kph|wind_degree|wind_direction|pressure_mb|pressure_in|precip_mm|precip_in|humidity|cloud|feels_like_celsius|feels_like_fahrenheit|visibility_km|visibility_miles|uv_index|gust_mph|gust_kph|air_quality_Carbon_Monoxide|air_quality_Ozone|air_quality_Nitrogen_dioxide|air_quality_Sulphur_dioxide|air_quality_PM2.5|air_quality_PM10|air_quality_us-epa-index|air_quality_gb-defra-index| sunrise|  sunset|moonrise|   moonset|    moon_phase|moon_illumination| date_only|      date|year|month|day|rolling_avg_temperature|  rolling_avg_precip|  rolling_sum_precip|\n",
      "+-------------------+----------------+--------+---------+--------------------+------------------+-------------------+-------------------+----------------------+--------------------+--------+--------+-----------+--------------+-----------+-----------+---------+---------+--------+-----+------------------+---------------------+-------------+----------------+--------+--------+--------+---------------------------+-----------------+----------------------------+---------------------------+-----------------+----------------+------------------------+--------------------------+--------+--------+--------+----------+--------------+-----------------+----------+----------+----+-----+---+-----------------------+--------------------+--------------------+\n",
      "|        Afghanistan|           Kabul|   34.52|    69.18|          Asia/Kabul|        1715849100|2024-05-16 13:15:00|               26.6|                  79.8|       Partly Cloudy|     8.3|    13.3|        338|           NNW|     1012.0|      29.89|      0.0|      0.0|      24|   30|              25.3|                 77.5|         10.0|             6.0|     7.0|     9.5|    15.3|                      277.0|            103.0|                         1.1|                        0.2|              8.4|            26.6|                       1|                         1|04:50 AM|06:50 PM|12:12 PM|  01:11 AM|Waxing Gibbous|               55|2024-05-16|2024-05-16|2024|    5| 16|                   79.8|                 0.0|                 0.0|\n",
      "|            Albania|          Tirana|   41.33|    19.82|       Europe/Tirane|        1715849100|2024-05-16 10:45:00|               19.0|                  66.2|       Partly cloudy|     6.9|    11.2|        320|            NW|     1012.0|      29.88|      0.1|      0.0|      94|   75|              19.0|                 66.2|         10.0|             6.0|     5.0|    11.4|    18.4|                      193.6|             97.3|                         0.9|                        0.1|              1.1|             2.0|                       1|                         1|05:21 AM|07:54 PM|12:58 PM|  02:14 AM|Waxing Gibbous|               55|2024-05-16|2024-05-16|2024|    5| 16|                   73.0|                 0.0|                 0.0|\n",
      "|            Algeria|         Algiers|   36.76|     3.05|      Africa/Algiers|        1715849100|2024-05-16 09:45:00|               23.0|                  73.4|               Sunny|     9.4|    15.1|        280|             W|     1011.0|      29.85|      0.0|      0.0|      29|    0|              24.6|                 76.4|         10.0|             6.0|     5.0|    13.9|    22.3|                      540.7|             12.2|                        65.1|                       13.4|             10.4|            18.4|                       1|                         1|05:40 AM|07:50 PM|01:15 PM|  02:14 AM|Waxing Gibbous|               55|2024-05-16|2024-05-16|2024|    5| 16|      73.13333333333334|                 0.0|                 0.0|\n",
      "|            Andorra|Andorra La Vella|    42.5|     1.52|      Europe/Andorra|        1715849100|2024-05-16 10:45:00|                6.3|                  43.3|       Light drizzle|     7.4|    11.9|        215|            SW|     1007.0|      29.75|      0.3|     0.01|      61|  100|               3.8|                 38.9|          2.0|             1.0|     2.0|     8.5|    13.7|                      170.2|             64.4|                         1.6|                        0.2|              0.7|             0.9|                       1|                         1|06:31 AM|09:11 PM|02:12 PM|  03:31 AM|Waxing Gibbous|               55|2024-05-16|2024-05-16|2024|    5| 16|     60.966666666666676|0.003333333258827...|0.009999999776482582|\n",
      "|             Angola|          Luanda|   -8.84|    13.23|       Africa/Luanda|        1715849100|2024-05-16 09:45:00|               26.0|                  78.8|       Partly cloudy|     8.1|    13.0|        150|           SSE|     1011.0|      29.85|      0.0|      0.0|      89|   50|              28.7|                 83.6|         10.0|             6.0|     8.0|    12.5|    20.2|                     2964.0|             19.0|                        72.7|                       31.5|            183.4|           262.3|                       5|                        10|06:12 AM|05:55 PM|01:17 PM|  12:38 AM|Waxing Gibbous|               55|2024-05-16|2024-05-16|2024|    5| 16|      65.16666666666667|0.003333333258827...|0.009999999776482582|\n",
      "|Antigua and Barbuda|    Saint John's|   17.12|   -61.85|     America/Antigua|        1715849100|2024-05-16 04:45:00|               26.0|                  78.8|       Partly cloudy|     5.6|     9.0|         90|             E|     1013.0|      29.91|     0.02|      0.0|      84|   25|              28.2|                 82.8|         10.0|             6.0|     1.0|    15.7|    25.3|                      220.3|             29.0|                         0.2|                        0.2|              1.2|             4.5|                       1|                         1|05:36 AM|06:32 PM|01:05 PM|  01:14 AM|Waxing Gibbous|               55|2024-05-16|2024-05-16|2024|    5| 16|      66.96666666666665|0.003333333258827...|0.009999999776482582|\n",
      "|          Argentina|    Buenos Aires|  -34.59|   -58.67|America/Argentina...|        1715849100|2024-05-16 05:45:00|                8.0|                  46.4|               Clear|     2.2|     3.6|         10|             N|     1014.0|      29.94|      0.0|      0.0|      93|    0|               7.1|                 44.9|         10.0|             6.0|     1.0|     6.5|    10.5|                      270.4|              7.7|                         8.3|                        1.3|              4.0|             5.3|                       1|                         1|07:43 AM|05:59 PM|02:36 PM|  01:04 AM|Waxing Gibbous|               55|2024-05-16|2024-05-16|2024|    5| 16|                   68.0|                 0.0|                 0.0|\n",
      "|            Armenia|         Yerevan|   40.18|    44.51|        Asia/Yerevan|        1715849100|2024-05-16 12:45:00|               19.0|                  66.2|       Partly cloudy|     4.3|     6.8|        140|            SE|     1017.0|      30.03|     0.13|     0.01|      40|   25|              19.0|                 66.2|         10.0|             6.0|     4.0|     6.2|     9.9|                      186.9|            103.0|                         1.0|                        0.3|              0.8|             0.9|                       1|                         1|05:45 AM|08:12 PM|01:17 PM|  02:31 AM|Waxing Gibbous|               55|2024-05-16|2024-05-16|2024|    5| 16|      63.79999999999999|0.003333333258827...|0.009999999776482582|\n",
      "|          Australia|        Canberra|  -35.28|   149.22|    Australia/Sydney|        1715849100|2024-05-16 18:45:00|                9.0|                  48.2|               Clear|     2.5|     4.0|        100|             E|     1027.0|      30.33|      0.0|      0.0|      87|    0|               9.1|                 48.5|         10.0|             6.0|     1.0|     3.3|     5.3|                      277.0|             26.8|                        15.1|                        1.0|              3.7|             5.4|                       1|                         1|06:52 AM|05:07 PM|01:31 PM|No moonset|Waxing Gibbous|               55|2024-05-16|2024-05-16|2024|    5| 16|                   53.6|0.003333333258827...|0.009999999776482582|\n",
      "|            Austria|          Vienna|    48.2|    16.37|       Europe/Vienna|        1715849100|2024-05-16 10:45:00|               16.0|                  60.8|       Partly cloudy|    12.5|    20.2|        110|           ESE|     1013.0|      29.91|      0.0|      0.0|      63|   75|              16.0|                 60.8|         10.0|             6.0|     5.0|    19.8|    31.9|                      220.3|             68.7|                         5.1|                        4.1|              3.7|             4.4|                       1|                         1|05:14 AM|08:29 PM|01:00 PM|  02:42 AM|Waxing Gibbous|               55|2024-05-16|2024-05-16|2024|    5| 16|                   58.4|0.003333333258827...|0.009999999776482582|\n",
      "|         Azerbaijan|            Baku|    40.4|    49.88|           Asia/Baku|        1715849100|2024-05-16 12:45:00|               17.0|                  62.6|       Partly cloudy|     4.3|     6.8|         20|           NNE|     1020.0|      30.12|      0.0|      0.0|      68|   50|              17.0|                 62.6|         10.0|             6.0|     5.0|     4.6|     7.4|                      227.0|             81.5|                         7.1|                        1.8|              1.9|             2.2|                       1|                         1|05:23 AM|07:51 PM|12:54 PM|  02:10 AM|Waxing Gibbous|               55|2024-05-16|2024-05-16|2024|    5| 16|     57.199999999999996|                 0.0|                 0.0|\n",
      "|            Bahamas|          Nassau|   25.08|   -77.35|      America/Nassau|        1715849100|2024-05-16 04:45:00|               27.0|                  80.6|       Partly cloudy|    16.1|    25.9|        180|             S|     1012.0|      29.87|      0.0|      0.0|      89|   50|              31.1|                 88.0|         10.0|             6.0|     1.0|    24.2|    39.0|                      330.5|             59.4|                         1.2|                        1.5|             12.2|            24.6|                       1|                         2|06:24 AM|07:48 PM|02:01 PM|  02:26 AM|Waxing Gibbous|               55|2024-05-16|2024-05-16|2024|    5| 16|                   68.0|                 0.0|                 0.0|\n",
      "|            Bahrain|          Manama|   26.24|    50.58|        Asia/Bahrain|        1715849100|2024-05-16 11:45:00|               36.0|                  96.8|               Sunny|    13.6|    22.0|        140|            SE|     1007.0|      29.74|      0.0|      0.0|      33|    0|              45.4|                113.6|         10.0|             6.0|     8.0|    18.1|    29.2|                      397.2|            100.1|                        18.5|                        9.7|             39.0|           114.3|                       2|                         4|04:50 AM|06:18 PM|12:10 PM|  12:45 AM|Waxing Gibbous|               55|2024-05-16|2024-05-16|2024|    5| 16|                   80.0|                 0.0|                 0.0|\n",
      "|         Bangladesh|           Dhaka|   23.72|    90.41|          Asia/Dhaka|        1715849100|2024-05-16 14:45:00|               38.4|                 101.2|       Partly Cloudy|     4.3|     6.8|        222|            SW|     1006.0|      29.71|      0.0|      0.0|      31|   30|              41.3|                106.4|         10.0|             6.0|     9.0|     4.9|     7.9|                      520.7|            188.8|                         8.7|                        4.7|             49.7|            57.0|                       3|                         6|05:16 AM|06:34 PM|12:28 PM|  12:58 AM|Waxing Gibbous|               55|2024-05-16|2024-05-16|2024|    5| 16|      92.86666666666666|                 0.0|                 0.0|\n",
      "|           Barbados|      Bridgetown|    13.1|   -59.62|    America/Barbados|        1715849100|2024-05-16 04:45:00|               28.0|                  82.4|       Partly cloudy|    16.1|    25.9|         90|             E|     1012.0|      29.88|      0.0|      0.0|      74|   50|              31.9|                 89.4|         10.0|             6.0|     1.0|    19.7|    31.8|                      257.0|             21.1|                         1.0|                        0.9|              1.9|             8.2|                       1|                         1|05:33 AM|06:17 PM|12:59 PM|  01:00 AM|Waxing Gibbous|               55|2024-05-16|2024-05-16|2024|    5| 16|      93.46666666666665|                 0.0|                 0.0|\n",
      "|            Belarus|           Minsk|    53.9|    27.57|        Europe/Minsk|        1715849100|2024-05-16 11:45:00|               17.0|                  62.6|               Sunny|    11.9|    19.1|        150|           SSE|     1027.0|      30.33|      0.0|      0.0|      29|    0|              17.0|                 62.6|         10.0|             6.0|     4.0|    16.3|    26.3|                      201.9|             88.7|                         1.4|                        2.1|              1.6|             1.7|                       1|                         1|05:05 AM|09:08 PM|12:59 PM|  03:13 AM|Waxing Gibbous|               55|2024-05-16|2024-05-16|2024|    5| 16|      82.06666666666668|                 0.0|                 0.0|\n",
      "|            Belgium|        Brussels|   50.83|     4.33|     Europe/Brussels|        1715849100|2024-05-16 10:45:00|               15.0|                  59.0|       Partly cloudy|     3.8|     6.1|        240|           WSW|     1003.0|      29.62|     0.25|     0.01|      94|   50|              14.6|                 58.2|         10.0|             6.0|     3.0|     8.8|    14.2|                      277.0|             11.2|                        22.3|                        3.4|             14.7|            15.8|                       1|                         2|05:52 AM|09:28 PM|01:45 PM|  03:38 AM|Waxing Gibbous|               55|2024-05-16|2024-05-16|2024|    5| 16|                   68.0|0.003333333258827...|0.009999999776482582|\n",
      "|             Belize|        Belmopan|   17.25|   -88.77|      America/Belize|        1715849100|2024-05-16 02:45:00|               26.0|                  78.9|            Overcast|     4.3|     6.8|         99|             E|     1007.0|      29.75|      0.0|      0.0|      89|   94|              29.6|                 85.3|         10.0|             6.0|     1.0|     6.5|    10.4|                      307.1|             34.0|                         0.3|                        0.2|              7.7|            32.1|                       1|                         1|05:23 AM|06:20 PM|12:56 PM|  01:04 AM|Waxing Gibbous|               55|2024-05-16|2024-05-16|2024|    5| 16|      66.83333333333333|0.003333333258827...|0.009999999776482582|\n",
      "|              Benin|      Porto-Novo|    6.48|     2.62|   Africa/Porto-Novo|        1715849100|2024-05-16 09:45:00|               28.0|                  82.4|Moderate or heavy...|    15.0|    24.1|        210|           SSW|     1012.0|      29.88|     0.02|      0.0|      79|   75|              31.2|                 88.1|         10.0|             6.0|     7.0|    19.5|    31.3|                      587.5|             14.5|                         4.5|                        2.2|              8.2|            15.7|                       1|                         1|06:33 AM|06:59 PM|01:48 PM|  01:38 AM|Waxing Gibbous|               55|2024-05-16|2024-05-16|2024|    5| 16|      73.43333333333334|0.003333333258827...|0.009999999776482582|\n",
      "|             Bhutan|         Thimphu|   27.48|     89.6|        Asia/Thimphu|        1715849100|2024-05-16 14:45:00|               18.2|                  64.8|Patchy light rain...|     7.2|    11.5|        142|            SE|     1012.0|      29.87|     0.16|     0.01|      50|   77|              18.2|                 64.8|         10.0|             6.0|     4.0|     8.6|    13.9|                      280.4|             69.4|                         0.2|                        0.7|              9.3|            11.5|                       1|                         1|05:12 AM|06:44 PM|12:27 PM|  01:07 AM|Waxing Gibbous|               55|2024-05-16|2024-05-16|2024|    5| 16|      75.36666666666667|0.003333333258827...|0.009999999776482582|\n",
      "+-------------------+----------------+--------+---------+--------------------+------------------+-------------------+-------------------+----------------------+--------------------+--------+--------+-----------+--------------+-----------+-----------+---------+---------+--------+-----+------------------+---------------------+-------------+----------------+--------+--------+--------+---------------------------+-----------------+----------------------------+---------------------------+-----------------+----------------+------------------------+--------------------------+--------+--------+--------+----------+--------------+-----------------+----------+----------+----+-----+---+-----------------------+--------------------+--------------------+\n",
      "only showing top 20 rows\n",
      "\n"
     ]
    }
   ],
   "source": [
    "#Calculate rolling averages and rolling sums\n",
    "from pyspark.sql.window import Window\n",
    "#Define window specifications\n",
    "windowSpec = Window.orderBy(\"date\").rowsBetween(-2, 0)  # Rolling window of 3 days\n",
    "from pyspark.sql.functions import avg, sum, col\n",
    "df_with_rolling_avg = df.withColumn(\"rolling_avg_temperature\", avg(\"temperature_fahrenheit\").over(windowSpec))\n",
    "df_with_rolling_avg = df_with_rolling_avg.withColumn(\"rolling_avg_precip\", avg(\"precip_in\").over(windowSpec))\n",
    "df_with_rolling_avg = df_with_rolling_avg.withColumn(\"rolling_sum_precip\", sum(\"precip_in\").over(windowSpec))\n",
    "df_with_rolling_avg.show()"
   ]
  }
 ],
 "metadata": {
  "application/vnd.databricks.v1+notebook": {
   "computePreferences": null,
   "dashboards": [],
   "environmentMetadata": {
    "base_environment": "",
    "client": "1"
   },
   "language": "python",
   "notebookMetadata": {
    "pythonIndentUnit": 4
   },
   "notebookName": "weather analysis",
   "widgets": {}
  },
  "kernelspec": {
   "display_name": "Python 3",
   "language": "python",
   "name": "python3"
  },
  "language_info": {
   "codemirror_mode": {
    "name": "ipython",
    "version": 3
   },
   "file_extension": ".py",
   "mimetype": "text/x-python",
   "name": "python",
   "nbconvert_exporter": "python",
   "pygments_lexer": "ipython3",
   "version": "3.12.9"
  }
 },
 "nbformat": 4,
 "nbformat_minor": 0
}
